{
 "cells": [
  {
   "cell_type": "markdown",
   "metadata": {},
   "source": [
    "# Project: Identify Customer Segments\n",
    "\n",
    "In this project, you will apply unsupervised learning techniques to identify segments of the population that form the core customer base for a mail-order sales company in Germany. These segments can then be used to direct marketing campaigns towards audiences that will have the highest expected rate of returns. The data that you will use has been provided by our partners at Bertelsmann Arvato Analytics, and represents a real-life data science task.\n",
    "\n",
    "This notebook will help you complete this task by providing a framework within which you will perform your analysis steps. In each step of the project, you will see some text describing the subtask that you will perform, followed by one or more code cells for you to complete your work. **Feel free to add additional code and markdown cells as you go along so that you can explore everything in precise chunks.** The code cells provided in the base template will outline only the major tasks, and will usually not be enough to cover all of the minor tasks that comprise it.\n",
    "\n",
    "It should be noted that while there will be precise guidelines on how you should handle certain tasks in the project, there will also be places where an exact specification is not provided. **There will be times in the project where you will need to make and justify your own decisions on how to treat the data.** These are places where there may not be only one way to handle the data. In real-life tasks, there may be many valid ways to approach an analysis task. One of the most important things you can do is clearly document your approach so that other scientists can understand the decisions you've made.\n",
    "\n",
    "At the end of most sections, there will be a Markdown cell labeled **Discussion**. In these cells, you will report your findings for the completed section, as well as document the decisions that you made in your approach to each subtask. **Your project will be evaluated not just on the code used to complete the tasks outlined, but also your communication about your observations and conclusions at each stage.**"
   ]
  },
  {
   "cell_type": "code",
   "execution_count": 1,
   "metadata": {},
   "outputs": [
    {
     "data": {
      "text/plain": [
       "'\\nImport note: The classroom currently uses sklearn version 0.19.\\nIf you need to use an imputer, it is available in sklearn.preprocessing.Imputer,\\ninstead of sklearn.impute as in newer versions of sklearn.\\n'"
      ]
     },
     "execution_count": 1,
     "metadata": {},
     "output_type": "execute_result"
    }
   ],
   "source": [
    "# import libraries here; add more as necessary\n",
    "import time\n",
    "import numpy as np\n",
    "import pandas as pd\n",
    "import matplotlib.pyplot as plt\n",
    "import seaborn as sns\n",
    "from sklearn.preprocessing import Imputer, StandardScaler\n",
    "from sklearn.decomposition import PCA\n",
    "from sklearn.cluster import KMeans\n",
    "\n",
    "# magic word for producing visualizations in notebook\n",
    "%matplotlib inline\n",
    "\n",
    "'''\n",
    "Import note: The classroom currently uses sklearn version 0.19.\n",
    "If you need to use an imputer, it is available in sklearn.preprocessing.Imputer,\n",
    "instead of sklearn.impute as in newer versions of sklearn.\n",
    "'''"
   ]
  },
  {
   "cell_type": "markdown",
   "metadata": {},
   "source": [
    "### Step 0: Load the Data\n",
    "\n",
    "There are four files associated with this project (not including this one):\n",
    "\n",
    "- `Udacity_AZDIAS_Subset.csv`: Demographics data for the general population of Germany; 891211 persons (rows) x 85 features (columns).\n",
    "- `Udacity_CUSTOMERS_Subset.csv`: Demographics data for customers of a mail-order company; 191652 persons (rows) x 85 features (columns).\n",
    "- `Data_Dictionary.md`: Detailed information file about the features in the provided datasets.\n",
    "- `AZDIAS_Feature_Summary.csv`: Summary of feature attributes for demographics data; 85 features (rows) x 4 columns\n",
    "\n",
    "Each row of the demographics files represents a single person, but also includes information outside of individuals, including information about their household, building, and neighborhood. You will use this information to cluster the general population into groups with similar demographic properties. Then, you will see how the people in the customers dataset fit into those created clusters. The hope here is that certain clusters are over-represented in the customers data, as compared to the general population; those over-represented clusters will be assumed to be part of the core userbase. This information can then be used for further applications, such as targeting for a marketing campaign.\n",
    "\n",
    "To start off with, load in the demographics data for the general population into a pandas DataFrame, and do the same for the feature attributes summary. Note for all of the `.csv` data files in this project: they're semicolon (`;`) delimited, so you'll need an additional argument in your [`read_csv()`](https://pandas.pydata.org/pandas-docs/stable/generated/pandas.read_csv.html) call to read in the data properly. Also, considering the size of the main dataset, it may take some time for it to load completely.\n",
    "\n",
    "Once the dataset is loaded, it's recommended that you take a little bit of time just browsing the general structure of the dataset and feature summary file. You'll be getting deep into the innards of the cleaning in the first major step of the project, so gaining some general familiarity can help you get your bearings."
   ]
  },
  {
   "cell_type": "code",
   "execution_count": 2,
   "metadata": {},
   "outputs": [],
   "source": [
    "# Load in the general demographics data.\n",
    "azdias = pd.read_csv(\"Udacity_AZDIAS_Subset.csv\", sep=\";\")\n",
    "\n",
    "# Load in the feature summary file.\n",
    "feat_info = pd.read_csv(\"AZDIAS_Feature_Summary.csv\", sep=\";\")"
   ]
  },
  {
   "cell_type": "code",
   "execution_count": 3,
   "metadata": {},
   "outputs": [
    {
     "data": {
      "text/html": [
       "<div>\n",
       "<style scoped>\n",
       "    .dataframe tbody tr th:only-of-type {\n",
       "        vertical-align: middle;\n",
       "    }\n",
       "\n",
       "    .dataframe tbody tr th {\n",
       "        vertical-align: top;\n",
       "    }\n",
       "\n",
       "    .dataframe thead th {\n",
       "        text-align: right;\n",
       "    }\n",
       "</style>\n",
       "<table border=\"1\" class=\"dataframe\">\n",
       "  <thead>\n",
       "    <tr style=\"text-align: right;\">\n",
       "      <th></th>\n",
       "      <th>AGER_TYP</th>\n",
       "      <th>ALTERSKATEGORIE_GROB</th>\n",
       "      <th>ANREDE_KZ</th>\n",
       "      <th>CJT_GESAMTTYP</th>\n",
       "      <th>FINANZ_MINIMALIST</th>\n",
       "      <th>FINANZ_SPARER</th>\n",
       "      <th>FINANZ_VORSORGER</th>\n",
       "      <th>FINANZ_ANLEGER</th>\n",
       "      <th>FINANZ_UNAUFFAELLIGER</th>\n",
       "      <th>FINANZ_HAUSBAUER</th>\n",
       "      <th>...</th>\n",
       "      <th>PLZ8_ANTG1</th>\n",
       "      <th>PLZ8_ANTG2</th>\n",
       "      <th>PLZ8_ANTG3</th>\n",
       "      <th>PLZ8_ANTG4</th>\n",
       "      <th>PLZ8_BAUMAX</th>\n",
       "      <th>PLZ8_HHZ</th>\n",
       "      <th>PLZ8_GBZ</th>\n",
       "      <th>ARBEIT</th>\n",
       "      <th>ORTSGR_KLS9</th>\n",
       "      <th>RELAT_AB</th>\n",
       "    </tr>\n",
       "  </thead>\n",
       "  <tbody>\n",
       "    <tr>\n",
       "      <td>0</td>\n",
       "      <td>-1</td>\n",
       "      <td>2</td>\n",
       "      <td>1</td>\n",
       "      <td>2.0</td>\n",
       "      <td>3</td>\n",
       "      <td>4</td>\n",
       "      <td>3</td>\n",
       "      <td>5</td>\n",
       "      <td>5</td>\n",
       "      <td>3</td>\n",
       "      <td>...</td>\n",
       "      <td>NaN</td>\n",
       "      <td>NaN</td>\n",
       "      <td>NaN</td>\n",
       "      <td>NaN</td>\n",
       "      <td>NaN</td>\n",
       "      <td>NaN</td>\n",
       "      <td>NaN</td>\n",
       "      <td>NaN</td>\n",
       "      <td>NaN</td>\n",
       "      <td>NaN</td>\n",
       "    </tr>\n",
       "    <tr>\n",
       "      <td>1</td>\n",
       "      <td>-1</td>\n",
       "      <td>1</td>\n",
       "      <td>2</td>\n",
       "      <td>5.0</td>\n",
       "      <td>1</td>\n",
       "      <td>5</td>\n",
       "      <td>2</td>\n",
       "      <td>5</td>\n",
       "      <td>4</td>\n",
       "      <td>5</td>\n",
       "      <td>...</td>\n",
       "      <td>2.0</td>\n",
       "      <td>3.0</td>\n",
       "      <td>2.0</td>\n",
       "      <td>1.0</td>\n",
       "      <td>1.0</td>\n",
       "      <td>5.0</td>\n",
       "      <td>4.0</td>\n",
       "      <td>3.0</td>\n",
       "      <td>5.0</td>\n",
       "      <td>4.0</td>\n",
       "    </tr>\n",
       "    <tr>\n",
       "      <td>2</td>\n",
       "      <td>-1</td>\n",
       "      <td>3</td>\n",
       "      <td>2</td>\n",
       "      <td>3.0</td>\n",
       "      <td>1</td>\n",
       "      <td>4</td>\n",
       "      <td>1</td>\n",
       "      <td>2</td>\n",
       "      <td>3</td>\n",
       "      <td>5</td>\n",
       "      <td>...</td>\n",
       "      <td>3.0</td>\n",
       "      <td>3.0</td>\n",
       "      <td>1.0</td>\n",
       "      <td>0.0</td>\n",
       "      <td>1.0</td>\n",
       "      <td>4.0</td>\n",
       "      <td>4.0</td>\n",
       "      <td>3.0</td>\n",
       "      <td>5.0</td>\n",
       "      <td>2.0</td>\n",
       "    </tr>\n",
       "    <tr>\n",
       "      <td>3</td>\n",
       "      <td>2</td>\n",
       "      <td>4</td>\n",
       "      <td>2</td>\n",
       "      <td>2.0</td>\n",
       "      <td>4</td>\n",
       "      <td>2</td>\n",
       "      <td>5</td>\n",
       "      <td>2</td>\n",
       "      <td>1</td>\n",
       "      <td>2</td>\n",
       "      <td>...</td>\n",
       "      <td>2.0</td>\n",
       "      <td>2.0</td>\n",
       "      <td>2.0</td>\n",
       "      <td>0.0</td>\n",
       "      <td>1.0</td>\n",
       "      <td>3.0</td>\n",
       "      <td>4.0</td>\n",
       "      <td>2.0</td>\n",
       "      <td>3.0</td>\n",
       "      <td>3.0</td>\n",
       "    </tr>\n",
       "    <tr>\n",
       "      <td>4</td>\n",
       "      <td>-1</td>\n",
       "      <td>3</td>\n",
       "      <td>1</td>\n",
       "      <td>5.0</td>\n",
       "      <td>4</td>\n",
       "      <td>3</td>\n",
       "      <td>4</td>\n",
       "      <td>1</td>\n",
       "      <td>3</td>\n",
       "      <td>2</td>\n",
       "      <td>...</td>\n",
       "      <td>2.0</td>\n",
       "      <td>4.0</td>\n",
       "      <td>2.0</td>\n",
       "      <td>1.0</td>\n",
       "      <td>2.0</td>\n",
       "      <td>3.0</td>\n",
       "      <td>3.0</td>\n",
       "      <td>4.0</td>\n",
       "      <td>6.0</td>\n",
       "      <td>5.0</td>\n",
       "    </tr>\n",
       "  </tbody>\n",
       "</table>\n",
       "<p>5 rows × 85 columns</p>\n",
       "</div>"
      ],
      "text/plain": [
       "   AGER_TYP  ALTERSKATEGORIE_GROB  ANREDE_KZ  CJT_GESAMTTYP  \\\n",
       "0        -1                     2          1            2.0   \n",
       "1        -1                     1          2            5.0   \n",
       "2        -1                     3          2            3.0   \n",
       "3         2                     4          2            2.0   \n",
       "4        -1                     3          1            5.0   \n",
       "\n",
       "   FINANZ_MINIMALIST  FINANZ_SPARER  FINANZ_VORSORGER  FINANZ_ANLEGER  \\\n",
       "0                  3              4                 3               5   \n",
       "1                  1              5                 2               5   \n",
       "2                  1              4                 1               2   \n",
       "3                  4              2                 5               2   \n",
       "4                  4              3                 4               1   \n",
       "\n",
       "   FINANZ_UNAUFFAELLIGER  FINANZ_HAUSBAUER  ...  PLZ8_ANTG1  PLZ8_ANTG2  \\\n",
       "0                      5                 3  ...         NaN         NaN   \n",
       "1                      4                 5  ...         2.0         3.0   \n",
       "2                      3                 5  ...         3.0         3.0   \n",
       "3                      1                 2  ...         2.0         2.0   \n",
       "4                      3                 2  ...         2.0         4.0   \n",
       "\n",
       "   PLZ8_ANTG3  PLZ8_ANTG4  PLZ8_BAUMAX  PLZ8_HHZ  PLZ8_GBZ  ARBEIT  \\\n",
       "0         NaN         NaN          NaN       NaN       NaN     NaN   \n",
       "1         2.0         1.0          1.0       5.0       4.0     3.0   \n",
       "2         1.0         0.0          1.0       4.0       4.0     3.0   \n",
       "3         2.0         0.0          1.0       3.0       4.0     2.0   \n",
       "4         2.0         1.0          2.0       3.0       3.0     4.0   \n",
       "\n",
       "   ORTSGR_KLS9  RELAT_AB  \n",
       "0          NaN       NaN  \n",
       "1          5.0       4.0  \n",
       "2          5.0       2.0  \n",
       "3          3.0       3.0  \n",
       "4          6.0       5.0  \n",
       "\n",
       "[5 rows x 85 columns]"
      ]
     },
     "execution_count": 3,
     "metadata": {},
     "output_type": "execute_result"
    }
   ],
   "source": [
    "# Check the structure of the data after it's loaded (e.g. print the number of\n",
    "# rows and columns, print the first few rows).\n",
    "azdias.head()"
   ]
  },
  {
   "cell_type": "code",
   "execution_count": 4,
   "metadata": {},
   "outputs": [
    {
     "data": {
      "text/plain": [
       "(891221, 85)"
      ]
     },
     "execution_count": 4,
     "metadata": {},
     "output_type": "execute_result"
    }
   ],
   "source": [
    "azdias.shape"
   ]
  },
  {
   "cell_type": "code",
   "execution_count": 5,
   "metadata": {},
   "outputs": [
    {
     "data": {
      "text/html": [
       "<div>\n",
       "<style scoped>\n",
       "    .dataframe tbody tr th:only-of-type {\n",
       "        vertical-align: middle;\n",
       "    }\n",
       "\n",
       "    .dataframe tbody tr th {\n",
       "        vertical-align: top;\n",
       "    }\n",
       "\n",
       "    .dataframe thead th {\n",
       "        text-align: right;\n",
       "    }\n",
       "</style>\n",
       "<table border=\"1\" class=\"dataframe\">\n",
       "  <thead>\n",
       "    <tr style=\"text-align: right;\">\n",
       "      <th></th>\n",
       "      <th>attribute</th>\n",
       "      <th>information_level</th>\n",
       "      <th>type</th>\n",
       "      <th>missing_or_unknown</th>\n",
       "    </tr>\n",
       "  </thead>\n",
       "  <tbody>\n",
       "    <tr>\n",
       "      <td>0</td>\n",
       "      <td>AGER_TYP</td>\n",
       "      <td>person</td>\n",
       "      <td>categorical</td>\n",
       "      <td>[-1,0]</td>\n",
       "    </tr>\n",
       "    <tr>\n",
       "      <td>1</td>\n",
       "      <td>ALTERSKATEGORIE_GROB</td>\n",
       "      <td>person</td>\n",
       "      <td>ordinal</td>\n",
       "      <td>[-1,0,9]</td>\n",
       "    </tr>\n",
       "    <tr>\n",
       "      <td>2</td>\n",
       "      <td>ANREDE_KZ</td>\n",
       "      <td>person</td>\n",
       "      <td>categorical</td>\n",
       "      <td>[-1,0]</td>\n",
       "    </tr>\n",
       "    <tr>\n",
       "      <td>3</td>\n",
       "      <td>CJT_GESAMTTYP</td>\n",
       "      <td>person</td>\n",
       "      <td>categorical</td>\n",
       "      <td>[0]</td>\n",
       "    </tr>\n",
       "    <tr>\n",
       "      <td>4</td>\n",
       "      <td>FINANZ_MINIMALIST</td>\n",
       "      <td>person</td>\n",
       "      <td>ordinal</td>\n",
       "      <td>[-1]</td>\n",
       "    </tr>\n",
       "  </tbody>\n",
       "</table>\n",
       "</div>"
      ],
      "text/plain": [
       "              attribute information_level         type missing_or_unknown\n",
       "0              AGER_TYP            person  categorical             [-1,0]\n",
       "1  ALTERSKATEGORIE_GROB            person      ordinal           [-1,0,9]\n",
       "2             ANREDE_KZ            person  categorical             [-1,0]\n",
       "3         CJT_GESAMTTYP            person  categorical                [0]\n",
       "4     FINANZ_MINIMALIST            person      ordinal               [-1]"
      ]
     },
     "execution_count": 5,
     "metadata": {},
     "output_type": "execute_result"
    }
   ],
   "source": [
    "feat_info.head()"
   ]
  },
  {
   "cell_type": "markdown",
   "metadata": {},
   "source": [
    "> **Tip**: Add additional cells to keep everything in reasonably-sized chunks! Keyboard shortcut `esc --> a` (press escape to enter command mode, then press the 'A' key) adds a new cell before the active cell, and `esc --> b` adds a new cell after the active cell. If you need to convert an active cell to a markdown cell, use `esc --> m` and to convert to a code cell, use `esc --> y`. \n",
    "\n",
    "## Step 1: Preprocessing\n",
    "\n",
    "### Step 1.1: Assess Missing Data\n",
    "\n",
    "The feature summary file contains a summary of properties for each demographics data column. You will use this file to help you make cleaning decisions during this stage of the project. First of all, you should assess the demographics data in terms of missing data. Pay attention to the following points as you perform your analysis, and take notes on what you observe. Make sure that you fill in the **Discussion** cell with your findings and decisions at the end of each step that has one!\n",
    "\n",
    "#### Step 1.1.1: Convert Missing Value Codes to NaNs\n",
    "The fourth column of the feature attributes summary (loaded in above as `feat_info`) documents the codes from the data dictionary that indicate missing or unknown data. While the file encodes this as a list (e.g. `[-1,0]`), this will get read in as a string object. You'll need to do a little bit of parsing to make use of it to identify and clean the data. Convert data that matches a 'missing' or 'unknown' value code into a numpy NaN value. You might want to see how much data takes on a 'missing' or 'unknown' code, and how much data is naturally missing, as a point of interest.\n",
    "\n",
    "**As one more reminder, you are encouraged to add additional cells to break up your analysis into manageable chunks.**"
   ]
  },
  {
   "cell_type": "code",
   "execution_count": 6,
   "metadata": {},
   "outputs": [],
   "source": [
    "def get_missing_vals_count():\n",
    "    cols_with_missing_vals_count = azdias.isnull().sum()[azdias.isnull().sum() > 0].sort_values(ascending=False)\n",
    "    df = cols_with_missing_vals_count.to_frame()\n",
    "    df.columns = [\"count\"]\n",
    "    df[\"fraction\"] = df[\"count\"] / azdias.shape[0]\n",
    "    return df"
   ]
  },
  {
   "cell_type": "code",
   "execution_count": 7,
   "metadata": {},
   "outputs": [
    {
     "data": {
      "text/html": [
       "<div>\n",
       "<style scoped>\n",
       "    .dataframe tbody tr th:only-of-type {\n",
       "        vertical-align: middle;\n",
       "    }\n",
       "\n",
       "    .dataframe tbody tr th {\n",
       "        vertical-align: top;\n",
       "    }\n",
       "\n",
       "    .dataframe thead th {\n",
       "        text-align: right;\n",
       "    }\n",
       "</style>\n",
       "<table border=\"1\" class=\"dataframe\">\n",
       "  <thead>\n",
       "    <tr style=\"text-align: right;\">\n",
       "      <th></th>\n",
       "      <th>count</th>\n",
       "      <th>fraction</th>\n",
       "    </tr>\n",
       "  </thead>\n",
       "  <tbody>\n",
       "    <tr>\n",
       "      <td>KK_KUNDENTYP</td>\n",
       "      <td>584612</td>\n",
       "      <td>0.655967</td>\n",
       "    </tr>\n",
       "    <tr>\n",
       "      <td>KBA05_ANTG3</td>\n",
       "      <td>133324</td>\n",
       "      <td>0.149597</td>\n",
       "    </tr>\n",
       "    <tr>\n",
       "      <td>KBA05_ANTG2</td>\n",
       "      <td>133324</td>\n",
       "      <td>0.149597</td>\n",
       "    </tr>\n",
       "    <tr>\n",
       "      <td>KBA05_ANTG4</td>\n",
       "      <td>133324</td>\n",
       "      <td>0.149597</td>\n",
       "    </tr>\n",
       "    <tr>\n",
       "      <td>KBA05_BAUMAX</td>\n",
       "      <td>133324</td>\n",
       "      <td>0.149597</td>\n",
       "    </tr>\n",
       "    <tr>\n",
       "      <td>KBA05_GBZ</td>\n",
       "      <td>133324</td>\n",
       "      <td>0.149597</td>\n",
       "    </tr>\n",
       "    <tr>\n",
       "      <td>KBA05_ANTG1</td>\n",
       "      <td>133324</td>\n",
       "      <td>0.149597</td>\n",
       "    </tr>\n",
       "    <tr>\n",
       "      <td>MOBI_REGIO</td>\n",
       "      <td>133324</td>\n",
       "      <td>0.149597</td>\n",
       "    </tr>\n",
       "    <tr>\n",
       "      <td>KKK</td>\n",
       "      <td>121196</td>\n",
       "      <td>0.135989</td>\n",
       "    </tr>\n",
       "    <tr>\n",
       "      <td>REGIOTYP</td>\n",
       "      <td>121196</td>\n",
       "      <td>0.135989</td>\n",
       "    </tr>\n",
       "    <tr>\n",
       "      <td>PLZ8_ANTG1</td>\n",
       "      <td>116515</td>\n",
       "      <td>0.130736</td>\n",
       "    </tr>\n",
       "    <tr>\n",
       "      <td>PLZ8_ANTG2</td>\n",
       "      <td>116515</td>\n",
       "      <td>0.130736</td>\n",
       "    </tr>\n",
       "    <tr>\n",
       "      <td>PLZ8_ANTG3</td>\n",
       "      <td>116515</td>\n",
       "      <td>0.130736</td>\n",
       "    </tr>\n",
       "    <tr>\n",
       "      <td>PLZ8_ANTG4</td>\n",
       "      <td>116515</td>\n",
       "      <td>0.130736</td>\n",
       "    </tr>\n",
       "    <tr>\n",
       "      <td>PLZ8_BAUMAX</td>\n",
       "      <td>116515</td>\n",
       "      <td>0.130736</td>\n",
       "    </tr>\n",
       "    <tr>\n",
       "      <td>PLZ8_HHZ</td>\n",
       "      <td>116515</td>\n",
       "      <td>0.130736</td>\n",
       "    </tr>\n",
       "    <tr>\n",
       "      <td>PLZ8_GBZ</td>\n",
       "      <td>116515</td>\n",
       "      <td>0.130736</td>\n",
       "    </tr>\n",
       "    <tr>\n",
       "      <td>W_KEIT_KIND_HH</td>\n",
       "      <td>107602</td>\n",
       "      <td>0.120735</td>\n",
       "    </tr>\n",
       "    <tr>\n",
       "      <td>KBA13_ANZAHL_PKW</td>\n",
       "      <td>105800</td>\n",
       "      <td>0.118714</td>\n",
       "    </tr>\n",
       "    <tr>\n",
       "      <td>CAMEO_DEUG_2015</td>\n",
       "      <td>98979</td>\n",
       "      <td>0.111060</td>\n",
       "    </tr>\n",
       "    <tr>\n",
       "      <td>CAMEO_INTL_2015</td>\n",
       "      <td>98979</td>\n",
       "      <td>0.111060</td>\n",
       "    </tr>\n",
       "    <tr>\n",
       "      <td>CAMEO_DEU_2015</td>\n",
       "      <td>98979</td>\n",
       "      <td>0.111060</td>\n",
       "    </tr>\n",
       "    <tr>\n",
       "      <td>ORTSGR_KLS9</td>\n",
       "      <td>97216</td>\n",
       "      <td>0.109082</td>\n",
       "    </tr>\n",
       "    <tr>\n",
       "      <td>RELAT_AB</td>\n",
       "      <td>97216</td>\n",
       "      <td>0.109082</td>\n",
       "    </tr>\n",
       "    <tr>\n",
       "      <td>ARBEIT</td>\n",
       "      <td>97216</td>\n",
       "      <td>0.109082</td>\n",
       "    </tr>\n",
       "    <tr>\n",
       "      <td>ANZ_HH_TITEL</td>\n",
       "      <td>97008</td>\n",
       "      <td>0.108848</td>\n",
       "    </tr>\n",
       "    <tr>\n",
       "      <td>EWDICHTE</td>\n",
       "      <td>93740</td>\n",
       "      <td>0.105182</td>\n",
       "    </tr>\n",
       "    <tr>\n",
       "      <td>BALLRAUM</td>\n",
       "      <td>93740</td>\n",
       "      <td>0.105182</td>\n",
       "    </tr>\n",
       "    <tr>\n",
       "      <td>INNENSTADT</td>\n",
       "      <td>93740</td>\n",
       "      <td>0.105182</td>\n",
       "    </tr>\n",
       "    <tr>\n",
       "      <td>GEBAEUDETYP_RASTER</td>\n",
       "      <td>93155</td>\n",
       "      <td>0.104525</td>\n",
       "    </tr>\n",
       "    <tr>\n",
       "      <td>WOHNLAGE</td>\n",
       "      <td>93148</td>\n",
       "      <td>0.104517</td>\n",
       "    </tr>\n",
       "    <tr>\n",
       "      <td>OST_WEST_KZ</td>\n",
       "      <td>93148</td>\n",
       "      <td>0.104517</td>\n",
       "    </tr>\n",
       "    <tr>\n",
       "      <td>MIN_GEBAEUDEJAHR</td>\n",
       "      <td>93148</td>\n",
       "      <td>0.104517</td>\n",
       "    </tr>\n",
       "    <tr>\n",
       "      <td>GEBAEUDETYP</td>\n",
       "      <td>93148</td>\n",
       "      <td>0.104517</td>\n",
       "    </tr>\n",
       "    <tr>\n",
       "      <td>ANZ_HAUSHALTE_AKTIV</td>\n",
       "      <td>93148</td>\n",
       "      <td>0.104517</td>\n",
       "    </tr>\n",
       "    <tr>\n",
       "      <td>KONSUMNAEHE</td>\n",
       "      <td>73969</td>\n",
       "      <td>0.082997</td>\n",
       "    </tr>\n",
       "    <tr>\n",
       "      <td>TITEL_KZ</td>\n",
       "      <td>73499</td>\n",
       "      <td>0.082470</td>\n",
       "    </tr>\n",
       "    <tr>\n",
       "      <td>WOHNDAUER_2008</td>\n",
       "      <td>73499</td>\n",
       "      <td>0.082470</td>\n",
       "    </tr>\n",
       "    <tr>\n",
       "      <td>SOHO_KZ</td>\n",
       "      <td>73499</td>\n",
       "      <td>0.082470</td>\n",
       "    </tr>\n",
       "    <tr>\n",
       "      <td>ANZ_TITEL</td>\n",
       "      <td>73499</td>\n",
       "      <td>0.082470</td>\n",
       "    </tr>\n",
       "    <tr>\n",
       "      <td>ANZ_PERSONEN</td>\n",
       "      <td>73499</td>\n",
       "      <td>0.082470</td>\n",
       "    </tr>\n",
       "    <tr>\n",
       "      <td>ALTER_HH</td>\n",
       "      <td>73499</td>\n",
       "      <td>0.082470</td>\n",
       "    </tr>\n",
       "    <tr>\n",
       "      <td>HH_EINKOMMEN_SCORE</td>\n",
       "      <td>18348</td>\n",
       "      <td>0.020587</td>\n",
       "    </tr>\n",
       "    <tr>\n",
       "      <td>ONLINE_AFFINITAET</td>\n",
       "      <td>4854</td>\n",
       "      <td>0.005446</td>\n",
       "    </tr>\n",
       "    <tr>\n",
       "      <td>RETOURTYP_BK_S</td>\n",
       "      <td>4854</td>\n",
       "      <td>0.005446</td>\n",
       "    </tr>\n",
       "    <tr>\n",
       "      <td>LP_STATUS_GROB</td>\n",
       "      <td>4854</td>\n",
       "      <td>0.005446</td>\n",
       "    </tr>\n",
       "    <tr>\n",
       "      <td>LP_STATUS_FEIN</td>\n",
       "      <td>4854</td>\n",
       "      <td>0.005446</td>\n",
       "    </tr>\n",
       "    <tr>\n",
       "      <td>LP_FAMILIE_GROB</td>\n",
       "      <td>4854</td>\n",
       "      <td>0.005446</td>\n",
       "    </tr>\n",
       "    <tr>\n",
       "      <td>LP_FAMILIE_FEIN</td>\n",
       "      <td>4854</td>\n",
       "      <td>0.005446</td>\n",
       "    </tr>\n",
       "    <tr>\n",
       "      <td>LP_LEBENSPHASE_GROB</td>\n",
       "      <td>4854</td>\n",
       "      <td>0.005446</td>\n",
       "    </tr>\n",
       "    <tr>\n",
       "      <td>LP_LEBENSPHASE_FEIN</td>\n",
       "      <td>4854</td>\n",
       "      <td>0.005446</td>\n",
       "    </tr>\n",
       "    <tr>\n",
       "      <td>GFK_URLAUBERTYP</td>\n",
       "      <td>4854</td>\n",
       "      <td>0.005446</td>\n",
       "    </tr>\n",
       "    <tr>\n",
       "      <td>CJT_GESAMTTYP</td>\n",
       "      <td>4854</td>\n",
       "      <td>0.005446</td>\n",
       "    </tr>\n",
       "  </tbody>\n",
       "</table>\n",
       "</div>"
      ],
      "text/plain": [
       "                      count  fraction\n",
       "KK_KUNDENTYP         584612  0.655967\n",
       "KBA05_ANTG3          133324  0.149597\n",
       "KBA05_ANTG2          133324  0.149597\n",
       "KBA05_ANTG4          133324  0.149597\n",
       "KBA05_BAUMAX         133324  0.149597\n",
       "KBA05_GBZ            133324  0.149597\n",
       "KBA05_ANTG1          133324  0.149597\n",
       "MOBI_REGIO           133324  0.149597\n",
       "KKK                  121196  0.135989\n",
       "REGIOTYP             121196  0.135989\n",
       "PLZ8_ANTG1           116515  0.130736\n",
       "PLZ8_ANTG2           116515  0.130736\n",
       "PLZ8_ANTG3           116515  0.130736\n",
       "PLZ8_ANTG4           116515  0.130736\n",
       "PLZ8_BAUMAX          116515  0.130736\n",
       "PLZ8_HHZ             116515  0.130736\n",
       "PLZ8_GBZ             116515  0.130736\n",
       "W_KEIT_KIND_HH       107602  0.120735\n",
       "KBA13_ANZAHL_PKW     105800  0.118714\n",
       "CAMEO_DEUG_2015       98979  0.111060\n",
       "CAMEO_INTL_2015       98979  0.111060\n",
       "CAMEO_DEU_2015        98979  0.111060\n",
       "ORTSGR_KLS9           97216  0.109082\n",
       "RELAT_AB              97216  0.109082\n",
       "ARBEIT                97216  0.109082\n",
       "ANZ_HH_TITEL          97008  0.108848\n",
       "EWDICHTE              93740  0.105182\n",
       "BALLRAUM              93740  0.105182\n",
       "INNENSTADT            93740  0.105182\n",
       "GEBAEUDETYP_RASTER    93155  0.104525\n",
       "WOHNLAGE              93148  0.104517\n",
       "OST_WEST_KZ           93148  0.104517\n",
       "MIN_GEBAEUDEJAHR      93148  0.104517\n",
       "GEBAEUDETYP           93148  0.104517\n",
       "ANZ_HAUSHALTE_AKTIV   93148  0.104517\n",
       "KONSUMNAEHE           73969  0.082997\n",
       "TITEL_KZ              73499  0.082470\n",
       "WOHNDAUER_2008        73499  0.082470\n",
       "SOHO_KZ               73499  0.082470\n",
       "ANZ_TITEL             73499  0.082470\n",
       "ANZ_PERSONEN          73499  0.082470\n",
       "ALTER_HH              73499  0.082470\n",
       "HH_EINKOMMEN_SCORE    18348  0.020587\n",
       "ONLINE_AFFINITAET      4854  0.005446\n",
       "RETOURTYP_BK_S         4854  0.005446\n",
       "LP_STATUS_GROB         4854  0.005446\n",
       "LP_STATUS_FEIN         4854  0.005446\n",
       "LP_FAMILIE_GROB        4854  0.005446\n",
       "LP_FAMILIE_FEIN        4854  0.005446\n",
       "LP_LEBENSPHASE_GROB    4854  0.005446\n",
       "LP_LEBENSPHASE_FEIN    4854  0.005446\n",
       "GFK_URLAUBERTYP        4854  0.005446\n",
       "CJT_GESAMTTYP          4854  0.005446"
      ]
     },
     "metadata": {},
     "output_type": "display_data"
    }
   ],
   "source": [
    "display(get_missing_vals_count())"
   ]
  },
  {
   "cell_type": "code",
   "execution_count": 8,
   "metadata": {},
   "outputs": [],
   "source": [
    "def try_parse_to_int(value):\n",
    "  try:\n",
    "    return int(value)\n",
    "  except ValueError:\n",
    "    return value"
   ]
  },
  {
   "cell_type": "code",
   "execution_count": 9,
   "metadata": {},
   "outputs": [
    {
     "name": "stdout",
     "output_type": "stream",
     "text": [
      "{'AGER_TYP': '[-1,0]', 'ALTERSKATEGORIE_GROB': '[-1,0,9]', 'ANREDE_KZ': '[-1,0]', 'CJT_GESAMTTYP': '[0]', 'FINANZ_MINIMALIST': '[-1]', 'FINANZ_SPARER': '[-1]', 'FINANZ_VORSORGER': '[-1]', 'FINANZ_ANLEGER': '[-1]', 'FINANZ_UNAUFFAELLIGER': '[-1]', 'FINANZ_HAUSBAUER': '[-1]', 'FINANZTYP': '[-1]', 'GEBURTSJAHR': '[0]', 'GFK_URLAUBERTYP': '[]', 'GREEN_AVANTGARDE': '[]', 'HEALTH_TYP': '[-1,0]', 'LP_LEBENSPHASE_FEIN': '[0]', 'LP_LEBENSPHASE_GROB': '[0]', 'LP_FAMILIE_FEIN': '[0]', 'LP_FAMILIE_GROB': '[0]', 'LP_STATUS_FEIN': '[0]', 'LP_STATUS_GROB': '[0]', 'NATIONALITAET_KZ': '[-1,0]', 'PRAEGENDE_JUGENDJAHRE': '[-1,0]', 'RETOURTYP_BK_S': '[0]', 'SEMIO_SOZ': '[-1,9]', 'SEMIO_FAM': '[-1,9]', 'SEMIO_REL': '[-1,9]', 'SEMIO_MAT': '[-1,9]', 'SEMIO_VERT': '[-1,9]', 'SEMIO_LUST': '[-1,9]', 'SEMIO_ERL': '[-1,9]', 'SEMIO_KULT': '[-1,9]', 'SEMIO_RAT': '[-1,9]', 'SEMIO_KRIT': '[-1,9]', 'SEMIO_DOM': '[-1,9]', 'SEMIO_KAEM': '[-1,9]', 'SEMIO_PFLICHT': '[-1,9]', 'SEMIO_TRADV': '[-1,9]', 'SHOPPER_TYP': '[-1]', 'SOHO_KZ': '[-1]', 'TITEL_KZ': '[-1,0]', 'VERS_TYP': '[-1]', 'ZABEOTYP': '[-1,9]', 'ALTER_HH': '[0]', 'ANZ_PERSONEN': '[]', 'ANZ_TITEL': '[]', 'HH_EINKOMMEN_SCORE': '[-1,0]', 'KK_KUNDENTYP': '[-1]', 'W_KEIT_KIND_HH': '[-1,0]', 'WOHNDAUER_2008': '[-1,0]', 'ANZ_HAUSHALTE_AKTIV': '[0]', 'ANZ_HH_TITEL': '[]', 'GEBAEUDETYP': '[-1,0]', 'KONSUMNAEHE': '[]', 'MIN_GEBAEUDEJAHR': '[0]', 'OST_WEST_KZ': '[-1]', 'WOHNLAGE': '[-1]', 'CAMEO_DEUG_2015': '[-1,X]', 'CAMEO_DEU_2015': '[XX]', 'CAMEO_INTL_2015': '[-1,XX]', 'KBA05_ANTG1': '[-1]', 'KBA05_ANTG2': '[-1]', 'KBA05_ANTG3': '[-1]', 'KBA05_ANTG4': '[-1]', 'KBA05_BAUMAX': '[-1,0]', 'KBA05_GBZ': '[-1,0]', 'BALLRAUM': '[-1]', 'EWDICHTE': '[-1]', 'INNENSTADT': '[-1]', 'GEBAEUDETYP_RASTER': '[]', 'KKK': '[-1,0]', 'MOBI_REGIO': '[]', 'ONLINE_AFFINITAET': '[]', 'REGIOTYP': '[-1,0]', 'KBA13_ANZAHL_PKW': '[]', 'PLZ8_ANTG1': '[-1]', 'PLZ8_ANTG2': '[-1]', 'PLZ8_ANTG3': '[-1]', 'PLZ8_ANTG4': '[-1]', 'PLZ8_BAUMAX': '[-1,0]', 'PLZ8_HHZ': '[-1]', 'PLZ8_GBZ': '[-1]', 'ARBEIT': '[-1,9]', 'ORTSGR_KLS9': '[-1,0]', 'RELAT_AB': '[-1,9]'}\n"
     ]
    }
   ],
   "source": [
    "feature_name_to_missing_codes = {}    \n",
    "for index, row in feat_info.iterrows():\n",
    "    feature_name_to_missing_codes[row[\"attribute\"]] = row[\"missing_or_unknown\"]\n",
    "print(feature_name_to_missing_codes)"
   ]
  },
  {
   "cell_type": "code",
   "execution_count": 10,
   "metadata": {},
   "outputs": [],
   "source": [
    "for feature_name in feature_name_to_missing_codes:\n",
    "    missing_codes_str = feature_name_to_missing_codes[feature_name]\n",
    "    missing_codes_arr = missing_codes_str.replace(\"[\", \"\").replace(\"]\",\"\").split(\",\")\n",
    "    feature_name_to_missing_codes[feature_name] = list(map(try_parse_to_int, missing_codes_arr))"
   ]
  },
  {
   "cell_type": "code",
   "execution_count": 11,
   "metadata": {},
   "outputs": [
    {
     "data": {
      "text/plain": [
       "{'AGER_TYP': [-1, 0],\n",
       " 'ALTERSKATEGORIE_GROB': [-1, 0, 9],\n",
       " 'ANREDE_KZ': [-1, 0],\n",
       " 'CJT_GESAMTTYP': [0],\n",
       " 'FINANZ_MINIMALIST': [-1],\n",
       " 'FINANZ_SPARER': [-1],\n",
       " 'FINANZ_VORSORGER': [-1],\n",
       " 'FINANZ_ANLEGER': [-1],\n",
       " 'FINANZ_UNAUFFAELLIGER': [-1],\n",
       " 'FINANZ_HAUSBAUER': [-1],\n",
       " 'FINANZTYP': [-1],\n",
       " 'GEBURTSJAHR': [0],\n",
       " 'GFK_URLAUBERTYP': [''],\n",
       " 'GREEN_AVANTGARDE': [''],\n",
       " 'HEALTH_TYP': [-1, 0],\n",
       " 'LP_LEBENSPHASE_FEIN': [0],\n",
       " 'LP_LEBENSPHASE_GROB': [0],\n",
       " 'LP_FAMILIE_FEIN': [0],\n",
       " 'LP_FAMILIE_GROB': [0],\n",
       " 'LP_STATUS_FEIN': [0],\n",
       " 'LP_STATUS_GROB': [0],\n",
       " 'NATIONALITAET_KZ': [-1, 0],\n",
       " 'PRAEGENDE_JUGENDJAHRE': [-1, 0],\n",
       " 'RETOURTYP_BK_S': [0],\n",
       " 'SEMIO_SOZ': [-1, 9],\n",
       " 'SEMIO_FAM': [-1, 9],\n",
       " 'SEMIO_REL': [-1, 9],\n",
       " 'SEMIO_MAT': [-1, 9],\n",
       " 'SEMIO_VERT': [-1, 9],\n",
       " 'SEMIO_LUST': [-1, 9],\n",
       " 'SEMIO_ERL': [-1, 9],\n",
       " 'SEMIO_KULT': [-1, 9],\n",
       " 'SEMIO_RAT': [-1, 9],\n",
       " 'SEMIO_KRIT': [-1, 9],\n",
       " 'SEMIO_DOM': [-1, 9],\n",
       " 'SEMIO_KAEM': [-1, 9],\n",
       " 'SEMIO_PFLICHT': [-1, 9],\n",
       " 'SEMIO_TRADV': [-1, 9],\n",
       " 'SHOPPER_TYP': [-1],\n",
       " 'SOHO_KZ': [-1],\n",
       " 'TITEL_KZ': [-1, 0],\n",
       " 'VERS_TYP': [-1],\n",
       " 'ZABEOTYP': [-1, 9],\n",
       " 'ALTER_HH': [0],\n",
       " 'ANZ_PERSONEN': [''],\n",
       " 'ANZ_TITEL': [''],\n",
       " 'HH_EINKOMMEN_SCORE': [-1, 0],\n",
       " 'KK_KUNDENTYP': [-1],\n",
       " 'W_KEIT_KIND_HH': [-1, 0],\n",
       " 'WOHNDAUER_2008': [-1, 0],\n",
       " 'ANZ_HAUSHALTE_AKTIV': [0],\n",
       " 'ANZ_HH_TITEL': [''],\n",
       " 'GEBAEUDETYP': [-1, 0],\n",
       " 'KONSUMNAEHE': [''],\n",
       " 'MIN_GEBAEUDEJAHR': [0],\n",
       " 'OST_WEST_KZ': [-1],\n",
       " 'WOHNLAGE': [-1],\n",
       " 'CAMEO_DEUG_2015': [-1, 'X'],\n",
       " 'CAMEO_DEU_2015': ['XX'],\n",
       " 'CAMEO_INTL_2015': [-1, 'XX'],\n",
       " 'KBA05_ANTG1': [-1],\n",
       " 'KBA05_ANTG2': [-1],\n",
       " 'KBA05_ANTG3': [-1],\n",
       " 'KBA05_ANTG4': [-1],\n",
       " 'KBA05_BAUMAX': [-1, 0],\n",
       " 'KBA05_GBZ': [-1, 0],\n",
       " 'BALLRAUM': [-1],\n",
       " 'EWDICHTE': [-1],\n",
       " 'INNENSTADT': [-1],\n",
       " 'GEBAEUDETYP_RASTER': [''],\n",
       " 'KKK': [-1, 0],\n",
       " 'MOBI_REGIO': [''],\n",
       " 'ONLINE_AFFINITAET': [''],\n",
       " 'REGIOTYP': [-1, 0],\n",
       " 'KBA13_ANZAHL_PKW': [''],\n",
       " 'PLZ8_ANTG1': [-1],\n",
       " 'PLZ8_ANTG2': [-1],\n",
       " 'PLZ8_ANTG3': [-1],\n",
       " 'PLZ8_ANTG4': [-1],\n",
       " 'PLZ8_BAUMAX': [-1, 0],\n",
       " 'PLZ8_HHZ': [-1],\n",
       " 'PLZ8_GBZ': [-1],\n",
       " 'ARBEIT': [-1, 9],\n",
       " 'ORTSGR_KLS9': [-1, 0],\n",
       " 'RELAT_AB': [-1, 9]}"
      ]
     },
     "execution_count": 11,
     "metadata": {},
     "output_type": "execute_result"
    }
   ],
   "source": [
    "feature_name_to_missing_codes"
   ]
  },
  {
   "cell_type": "code",
   "execution_count": 12,
   "metadata": {},
   "outputs": [],
   "source": [
    "# Replace missing codes in azdias with nans\n",
    "for feature_name in feature_name_to_missing_codes:\n",
    "    missing_codes = feature_name_to_missing_codes[feature_name]\n",
    "    azdias[[feature_name]] = azdias[[feature_name]].replace(missing_codes, np.nan)"
   ]
  },
  {
   "cell_type": "markdown",
   "metadata": {},
   "source": [
    "#### Step 1.1.2: Assess Missing Data in Each Column\n",
    "\n",
    "How much missing data is present in each column? There are a few columns that are outliers in terms of the proportion of values that are missing. You will want to use matplotlib's [`hist()`](https://matplotlib.org/api/_as_gen/matplotlib.pyplot.hist.html) function to visualize the distribution of missing value counts to find these columns. Identify and document these columns. While some of these columns might have justifications for keeping or re-encoding the data, for this project you should just remove them from the dataframe. (Feel free to make remarks about these outlier columns in the discussion, however!)\n",
    "\n",
    "For the remaining features, are there any patterns in which columns have, or share, missing data?"
   ]
  },
  {
   "cell_type": "code",
   "execution_count": 13,
   "metadata": {},
   "outputs": [
    {
     "data": {
      "text/html": [
       "<div>\n",
       "<style scoped>\n",
       "    .dataframe tbody tr th:only-of-type {\n",
       "        vertical-align: middle;\n",
       "    }\n",
       "\n",
       "    .dataframe tbody tr th {\n",
       "        vertical-align: top;\n",
       "    }\n",
       "\n",
       "    .dataframe thead th {\n",
       "        text-align: right;\n",
       "    }\n",
       "</style>\n",
       "<table border=\"1\" class=\"dataframe\">\n",
       "  <thead>\n",
       "    <tr style=\"text-align: right;\">\n",
       "      <th></th>\n",
       "      <th>count</th>\n",
       "      <th>fraction</th>\n",
       "    </tr>\n",
       "  </thead>\n",
       "  <tbody>\n",
       "    <tr>\n",
       "      <td>TITEL_KZ</td>\n",
       "      <td>889061</td>\n",
       "      <td>0.997576</td>\n",
       "    </tr>\n",
       "    <tr>\n",
       "      <td>AGER_TYP</td>\n",
       "      <td>685843</td>\n",
       "      <td>0.769554</td>\n",
       "    </tr>\n",
       "    <tr>\n",
       "      <td>KK_KUNDENTYP</td>\n",
       "      <td>584612</td>\n",
       "      <td>0.655967</td>\n",
       "    </tr>\n",
       "    <tr>\n",
       "      <td>KBA05_BAUMAX</td>\n",
       "      <td>476524</td>\n",
       "      <td>0.534687</td>\n",
       "    </tr>\n",
       "    <tr>\n",
       "      <td>GEBURTSJAHR</td>\n",
       "      <td>392318</td>\n",
       "      <td>0.440203</td>\n",
       "    </tr>\n",
       "    <tr>\n",
       "      <td>ALTER_HH</td>\n",
       "      <td>310267</td>\n",
       "      <td>0.348137</td>\n",
       "    </tr>\n",
       "    <tr>\n",
       "      <td>REGIOTYP</td>\n",
       "      <td>158064</td>\n",
       "      <td>0.177357</td>\n",
       "    </tr>\n",
       "    <tr>\n",
       "      <td>KKK</td>\n",
       "      <td>158064</td>\n",
       "      <td>0.177357</td>\n",
       "    </tr>\n",
       "    <tr>\n",
       "      <td>W_KEIT_KIND_HH</td>\n",
       "      <td>147988</td>\n",
       "      <td>0.166051</td>\n",
       "    </tr>\n",
       "    <tr>\n",
       "      <td>KBA05_ANTG4</td>\n",
       "      <td>133324</td>\n",
       "      <td>0.149597</td>\n",
       "    </tr>\n",
       "    <tr>\n",
       "      <td>KBA05_GBZ</td>\n",
       "      <td>133324</td>\n",
       "      <td>0.149597</td>\n",
       "    </tr>\n",
       "    <tr>\n",
       "      <td>MOBI_REGIO</td>\n",
       "      <td>133324</td>\n",
       "      <td>0.149597</td>\n",
       "    </tr>\n",
       "    <tr>\n",
       "      <td>KBA05_ANTG1</td>\n",
       "      <td>133324</td>\n",
       "      <td>0.149597</td>\n",
       "    </tr>\n",
       "    <tr>\n",
       "      <td>KBA05_ANTG2</td>\n",
       "      <td>133324</td>\n",
       "      <td>0.149597</td>\n",
       "    </tr>\n",
       "    <tr>\n",
       "      <td>KBA05_ANTG3</td>\n",
       "      <td>133324</td>\n",
       "      <td>0.149597</td>\n",
       "    </tr>\n",
       "  </tbody>\n",
       "</table>\n",
       "</div>"
      ],
      "text/plain": [
       "                 count  fraction\n",
       "TITEL_KZ        889061  0.997576\n",
       "AGER_TYP        685843  0.769554\n",
       "KK_KUNDENTYP    584612  0.655967\n",
       "KBA05_BAUMAX    476524  0.534687\n",
       "GEBURTSJAHR     392318  0.440203\n",
       "ALTER_HH        310267  0.348137\n",
       "REGIOTYP        158064  0.177357\n",
       "KKK             158064  0.177357\n",
       "W_KEIT_KIND_HH  147988  0.166051\n",
       "KBA05_ANTG4     133324  0.149597\n",
       "KBA05_GBZ       133324  0.149597\n",
       "MOBI_REGIO      133324  0.149597\n",
       "KBA05_ANTG1     133324  0.149597\n",
       "KBA05_ANTG2     133324  0.149597\n",
       "KBA05_ANTG3     133324  0.149597"
      ]
     },
     "metadata": {},
     "output_type": "display_data"
    }
   ],
   "source": [
    "# Perform an assessment of how much missing data there is in each column of the\n",
    "# dataset.\n",
    "missing_vals_count = get_missing_vals_count()\n",
    "display(missing_vals_count[:15])"
   ]
  },
  {
   "cell_type": "code",
   "execution_count": 14,
   "metadata": {},
   "outputs": [
    {
     "data": {
      "text/plain": [
       "<BarContainer object of 15 artists>"
      ]
     },
     "execution_count": 14,
     "metadata": {},
     "output_type": "execute_result"
    },
    {
     "data": {
      "image/png": "[encoded data removed]",
      "text/plain": [
       "<Figure size 1080x360 with 1 Axes>"
      ]
     },
     "metadata": {
      "needs_background": "light"
     },
     "output_type": "display_data"
    }
   ],
   "source": [
    "x = missing_vals_count.index[:15]\n",
    "cols = missing_vals_count.values[:15][:,1]\n",
    "plt.figure(figsize=(15,5))\n",
    "plt.bar(x, cols)"
   ]
  },
  {
   "cell_type": "code",
   "execution_count": 15,
   "metadata": {},
   "outputs": [
    {
     "data": {
      "text/html": [
       "<div>\n",
       "<style scoped>\n",
       "    .dataframe tbody tr th:only-of-type {\n",
       "        vertical-align: middle;\n",
       "    }\n",
       "\n",
       "    .dataframe tbody tr th {\n",
       "        vertical-align: top;\n",
       "    }\n",
       "\n",
       "    .dataframe thead th {\n",
       "        text-align: right;\n",
       "    }\n",
       "</style>\n",
       "<table border=\"1\" class=\"dataframe\">\n",
       "  <thead>\n",
       "    <tr style=\"text-align: right;\">\n",
       "      <th></th>\n",
       "      <th>count</th>\n",
       "      <th>fraction</th>\n",
       "    </tr>\n",
       "  </thead>\n",
       "  <tbody>\n",
       "    <tr>\n",
       "      <td>count</td>\n",
       "      <td>61.000000</td>\n",
       "      <td>61.000000</td>\n",
       "    </tr>\n",
       "    <tr>\n",
       "      <td>mean</td>\n",
       "      <td>137277.524590</td>\n",
       "      <td>0.154033</td>\n",
       "    </tr>\n",
       "    <tr>\n",
       "      <td>std</td>\n",
       "      <td>157099.496443</td>\n",
       "      <td>0.176274</td>\n",
       "    </tr>\n",
       "    <tr>\n",
       "      <td>min</td>\n",
       "      <td>2881.000000</td>\n",
       "      <td>0.003233</td>\n",
       "    </tr>\n",
       "    <tr>\n",
       "      <td>25%</td>\n",
       "      <td>93148.000000</td>\n",
       "      <td>0.104517</td>\n",
       "    </tr>\n",
       "    <tr>\n",
       "      <td>50%</td>\n",
       "      <td>99352.000000</td>\n",
       "      <td>0.111479</td>\n",
       "    </tr>\n",
       "    <tr>\n",
       "      <td>75%</td>\n",
       "      <td>116515.000000</td>\n",
       "      <td>0.130736</td>\n",
       "    </tr>\n",
       "    <tr>\n",
       "      <td>max</td>\n",
       "      <td>889061.000000</td>\n",
       "      <td>0.997576</td>\n",
       "    </tr>\n",
       "  </tbody>\n",
       "</table>\n",
       "</div>"
      ],
      "text/plain": [
       "               count   fraction\n",
       "count      61.000000  61.000000\n",
       "mean   137277.524590   0.154033\n",
       "std    157099.496443   0.176274\n",
       "min      2881.000000   0.003233\n",
       "25%     93148.000000   0.104517\n",
       "50%     99352.000000   0.111479\n",
       "75%    116515.000000   0.130736\n",
       "max    889061.000000   0.997576"
      ]
     },
     "execution_count": 15,
     "metadata": {},
     "output_type": "execute_result"
    }
   ],
   "source": [
    "missing_vals_count.describe()"
   ]
  },
  {
   "cell_type": "code",
   "execution_count": 16,
   "metadata": {},
   "outputs": [],
   "source": [
    "# Remove the outlier columns from the dataset. (You'll perform other data\n",
    "# engineering tasks such as re-encoding and imputation later.)\n",
    "drop_columns = ['TITEL_KZ', 'AGER_TYP', 'KK_KUNDENTYP', 'KBA05_BAUMAX', 'GEBURTSJAHR', 'ALTER_HH']\n",
    "azdias = azdias.drop(drop_columns, axis=1)\n",
    "\n",
    "# Clean feat_info\n",
    "feat_info = feat_info[~feat_info['attribute'].isin(drop_columns)]"
   ]
  },
  {
   "cell_type": "markdown",
   "metadata": {},
   "source": [
    "#### Discussion 1.1.2: Assess Missing Data in Each Column\n",
    "61 columns have missing data.  The average percentage of missing data among all the columns is around 15%. 75% of the columns have about 13% missing data.  \n",
    "  \n",
    "There are 6 columns with significantly more missing data. Those are:  \n",
    "'TITEL_KZ' – 99%  \n",
    "'AGER_TYP' – 77%   \n",
    "'KK_KUNDENTYP' – 65%  \n",
    "'KBA05_BAUMAX' – 53%  \n",
    "'GEBURTSJAHR' – 44%  \n",
    "'ALTER_HH' – 35%  \n",
    "  \n",
    "I've considered these as outliers and dropped them from the azdias dataset.\n"
   ]
  },
  {
   "cell_type": "markdown",
   "metadata": {},
   "source": [
    "#### Step 1.1.3: Assess Missing Data in Each Row\n",
    "\n",
    "Now, you'll perform a similar assessment for the rows of the dataset. How much data is missing in each row? As with the columns, you should see some groups of points that have a very different numbers of missing values. Divide the data into two subsets: one for data points that are above some threshold for missing values, and a second subset for points below that threshold.\n",
    "\n",
    "In order to know what to do with the outlier rows, we should see if the distribution of data values on columns that are not missing data (or are missing very little data) are similar or different between the two groups. Select at least five of these columns and compare the distribution of values.\n",
    "- You can use seaborn's [`countplot()`](https://seaborn.pydata.org/generated/seaborn.countplot.html) function to create a bar chart of code frequencies and matplotlib's [`subplot()`](https://matplotlib.org/api/_as_gen/matplotlib.pyplot.subplot.html) function to put bar charts for the two subplots side by side.\n",
    "- To reduce repeated code, you might want to write a function that can perform this comparison, taking as one of its arguments a column to be compared.\n",
    "\n",
    "Depending on what you observe in your comparison, this will have implications on how you approach your conclusions later in the analysis. If the distributions of non-missing features look similar between the data with many missing values and the data with few or no missing values, then we could argue that simply dropping those points from the analysis won't present a major issue. On the other hand, if the data with many missing values looks very different from the data with few or no missing values, then we should make a note on those data as special. We'll revisit these data later on. **Either way, you should continue your analysis for now using just the subset of the data with few or no missing values.**"
   ]
  },
  {
   "cell_type": "code",
   "execution_count": 17,
   "metadata": {},
   "outputs": [
    {
     "data": {
      "text/plain": [
       "0    43\n",
       "1     0\n",
       "2     0\n",
       "3     7\n",
       "4     0\n",
       "dtype: int64"
      ]
     },
     "execution_count": 17,
     "metadata": {},
     "output_type": "execute_result"
    }
   ],
   "source": [
    "nan_rowcount = azdias.isnull().sum(axis=1)\n",
    "nan_rowcount.head()"
   ]
  },
  {
   "cell_type": "code",
   "execution_count": 18,
   "metadata": {},
   "outputs": [
    {
     "data": {
      "image/png": "[encoded data removed]",
      "text/plain": [
       "<Figure size 864x288 with 1 Axes>"
      ]
     },
     "metadata": {
      "needs_background": "light"
     },
     "output_type": "display_data"
    }
   ],
   "source": [
    "# How much data is missing in each row of the dataset?\n",
    "\n",
    "plt.figure(figsize=(12,4))\n",
    "plt.hist(nan_rowcount, bins=np.arange(0,55,1))\n",
    "plt.xlabel('nan count')\n",
    "plt.ylabel('row count')\n",
    "plt.xticks(np.arange(0,55,5));"
   ]
  },
  {
   "cell_type": "raw",
   "metadata": {},
   "source": [
    "From the above plot it seems like a good threshold to qualify rows with many missing values is 25."
   ]
  },
  {
   "cell_type": "code",
   "execution_count": 19,
   "metadata": {},
   "outputs": [
    {
     "name": "stdout",
     "output_type": "stream",
     "text": [
      "rows with many missing values: 93260 or 10.46 % of all data\n"
     ]
    }
   ],
   "source": [
    "# Write code to divide the data into two subsets based on the number of missing\n",
    "# values in each row.\n",
    "\n",
    "rows_many_missing = nan_rowcount[nan_rowcount > 25]\n",
    "print('rows with many missing values:', rows_many_missing.shape[0], 'or', \\\n",
    "      np.round(rows_many_missing.shape[0]*100/nan_rowcount.shape[0],2), '% of all data')"
   ]
  },
  {
   "cell_type": "code",
   "execution_count": 20,
   "metadata": {},
   "outputs": [],
   "source": [
    "# Compare the distribution of values for at least five columns where there are\n",
    "# no or few missing values, between the two subsets.\n",
    "\n",
    "def plot_compare(column):\n",
    "    fig = plt.figure(figsize=(14,4))\n",
    "    ax1 = fig.add_subplot(121)\n",
    "    ax1.title.set_text('Many missing rows')\n",
    "    sns.countplot(azdias.loc[rows_many_missing.index,column])\n",
    "\n",
    "    ax2 = fig.add_subplot(122)\n",
    "    ax2.title.set_text('Few missing rows')\n",
    "    sns.countplot(azdias.loc[~azdias.index.isin(rows_many_missing.index),column]);\n",
    "\n",
    "    fig.suptitle(column)\n",
    "    plt.show()"
   ]
  },
  {
   "cell_type": "code",
   "execution_count": 21,
   "metadata": {},
   "outputs": [
    {
     "data": {
      "text/html": [
       "<div>\n",
       "<style scoped>\n",
       "    .dataframe tbody tr th:only-of-type {\n",
       "        vertical-align: middle;\n",
       "    }\n",
       "\n",
       "    .dataframe tbody tr th {\n",
       "        vertical-align: top;\n",
       "    }\n",
       "\n",
       "    .dataframe thead th {\n",
       "        text-align: right;\n",
       "    }\n",
       "</style>\n",
       "<table border=\"1\" class=\"dataframe\">\n",
       "  <thead>\n",
       "    <tr style=\"text-align: right;\">\n",
       "      <th></th>\n",
       "      <th>count</th>\n",
       "      <th>fraction</th>\n",
       "    </tr>\n",
       "  </thead>\n",
       "  <tbody>\n",
       "    <tr>\n",
       "      <td>GEBAEUDETYP_RASTER</td>\n",
       "      <td>93155</td>\n",
       "      <td>0.104525</td>\n",
       "    </tr>\n",
       "    <tr>\n",
       "      <td>MIN_GEBAEUDEJAHR</td>\n",
       "      <td>93148</td>\n",
       "      <td>0.104517</td>\n",
       "    </tr>\n",
       "    <tr>\n",
       "      <td>OST_WEST_KZ</td>\n",
       "      <td>93148</td>\n",
       "      <td>0.104517</td>\n",
       "    </tr>\n",
       "    <tr>\n",
       "      <td>WOHNLAGE</td>\n",
       "      <td>93148</td>\n",
       "      <td>0.104517</td>\n",
       "    </tr>\n",
       "    <tr>\n",
       "      <td>GEBAEUDETYP</td>\n",
       "      <td>93148</td>\n",
       "      <td>0.104517</td>\n",
       "    </tr>\n",
       "    <tr>\n",
       "      <td>LP_FAMILIE_FEIN</td>\n",
       "      <td>77792</td>\n",
       "      <td>0.087287</td>\n",
       "    </tr>\n",
       "    <tr>\n",
       "      <td>LP_FAMILIE_GROB</td>\n",
       "      <td>77792</td>\n",
       "      <td>0.087287</td>\n",
       "    </tr>\n",
       "    <tr>\n",
       "      <td>KONSUMNAEHE</td>\n",
       "      <td>73969</td>\n",
       "      <td>0.082997</td>\n",
       "    </tr>\n",
       "    <tr>\n",
       "      <td>WOHNDAUER_2008</td>\n",
       "      <td>73499</td>\n",
       "      <td>0.082470</td>\n",
       "    </tr>\n",
       "    <tr>\n",
       "      <td>ANZ_TITEL</td>\n",
       "      <td>73499</td>\n",
       "      <td>0.082470</td>\n",
       "    </tr>\n",
       "    <tr>\n",
       "      <td>SOHO_KZ</td>\n",
       "      <td>73499</td>\n",
       "      <td>0.082470</td>\n",
       "    </tr>\n",
       "    <tr>\n",
       "      <td>ANZ_PERSONEN</td>\n",
       "      <td>73499</td>\n",
       "      <td>0.082470</td>\n",
       "    </tr>\n",
       "    <tr>\n",
       "      <td>HH_EINKOMMEN_SCORE</td>\n",
       "      <td>18348</td>\n",
       "      <td>0.020587</td>\n",
       "    </tr>\n",
       "    <tr>\n",
       "      <td>LP_STATUS_GROB</td>\n",
       "      <td>4854</td>\n",
       "      <td>0.005446</td>\n",
       "    </tr>\n",
       "    <tr>\n",
       "      <td>LP_STATUS_FEIN</td>\n",
       "      <td>4854</td>\n",
       "      <td>0.005446</td>\n",
       "    </tr>\n",
       "    <tr>\n",
       "      <td>RETOURTYP_BK_S</td>\n",
       "      <td>4854</td>\n",
       "      <td>0.005446</td>\n",
       "    </tr>\n",
       "    <tr>\n",
       "      <td>ONLINE_AFFINITAET</td>\n",
       "      <td>4854</td>\n",
       "      <td>0.005446</td>\n",
       "    </tr>\n",
       "    <tr>\n",
       "      <td>GFK_URLAUBERTYP</td>\n",
       "      <td>4854</td>\n",
       "      <td>0.005446</td>\n",
       "    </tr>\n",
       "    <tr>\n",
       "      <td>CJT_GESAMTTYP</td>\n",
       "      <td>4854</td>\n",
       "      <td>0.005446</td>\n",
       "    </tr>\n",
       "    <tr>\n",
       "      <td>ALTERSKATEGORIE_GROB</td>\n",
       "      <td>2881</td>\n",
       "      <td>0.003233</td>\n",
       "    </tr>\n",
       "  </tbody>\n",
       "</table>\n",
       "</div>"
      ],
      "text/plain": [
       "                      count  fraction\n",
       "GEBAEUDETYP_RASTER    93155  0.104525\n",
       "MIN_GEBAEUDEJAHR      93148  0.104517\n",
       "OST_WEST_KZ           93148  0.104517\n",
       "WOHNLAGE              93148  0.104517\n",
       "GEBAEUDETYP           93148  0.104517\n",
       "LP_FAMILIE_FEIN       77792  0.087287\n",
       "LP_FAMILIE_GROB       77792  0.087287\n",
       "KONSUMNAEHE           73969  0.082997\n",
       "WOHNDAUER_2008        73499  0.082470\n",
       "ANZ_TITEL             73499  0.082470\n",
       "SOHO_KZ               73499  0.082470\n",
       "ANZ_PERSONEN          73499  0.082470\n",
       "HH_EINKOMMEN_SCORE    18348  0.020587\n",
       "LP_STATUS_GROB         4854  0.005446\n",
       "LP_STATUS_FEIN         4854  0.005446\n",
       "RETOURTYP_BK_S         4854  0.005446\n",
       "ONLINE_AFFINITAET      4854  0.005446\n",
       "GFK_URLAUBERTYP        4854  0.005446\n",
       "CJT_GESAMTTYP          4854  0.005446\n",
       "ALTERSKATEGORIE_GROB   2881  0.003233"
      ]
     },
     "execution_count": 21,
     "metadata": {},
     "output_type": "execute_result"
    }
   ],
   "source": [
    "missing_vals_count.tail(20)"
   ]
  },
  {
   "cell_type": "raw",
   "metadata": {},
   "source": [
    "For comparing rows with missing vs rows without missing values I'll use the following columns with very few missing values:  \n",
    "- ALTERSKATEGORIE_GROB. Estimated age based on given name analysis\n",
    "- GFK_URLAUBERTYP. Vacation habits\n",
    "- ONLINE_AFFINITAET. Online affinity\n",
    "- LP_STATUS_FEIN. Social status, fine scale\n",
    "- HH_EINKOMMEN_SCORE. Estimated household net income"
   ]
  },
  {
   "cell_type": "code",
   "execution_count": 22,
   "metadata": {},
   "outputs": [
    {
     "data": {
      "image/png": "[encoded data removed]",
      "text/plain": [
       "<Figure size 1008x288 with 2 Axes>"
      ]
     },
     "metadata": {
      "needs_background": "light"
     },
     "output_type": "display_data"
    }
   ],
   "source": [
    "plot_compare('ALTERSKATEGORIE_GROB')"
   ]
  },
  {
   "cell_type": "code",
   "execution_count": 23,
   "metadata": {},
   "outputs": [
    {
     "data": {
      "image/png": "[encoded data removed]",
      "text/plain": [
       "<Figure size 1008x288 with 2 Axes>"
      ]
     },
     "metadata": {
      "needs_background": "light"
     },
     "output_type": "display_data"
    }
   ],
   "source": [
    "plot_compare('GFK_URLAUBERTYP')"
   ]
  },
  {
   "cell_type": "code",
   "execution_count": 24,
   "metadata": {},
   "outputs": [
    {
     "data": {
      "image/png": "[encoded data removed]",
      "text/plain": [
       "<Figure size 1008x288 with 2 Axes>"
      ]
     },
     "metadata": {
      "needs_background": "light"
     },
     "output_type": "display_data"
    }
   ],
   "source": [
    "plot_compare('ONLINE_AFFINITAET')"
   ]
  },
  {
   "cell_type": "code",
   "execution_count": 25,
   "metadata": {},
   "outputs": [
    {
     "data": {
      "image/png": "[encoded data removed]",
      "text/plain": [
       "<Figure size 1008x288 with 2 Axes>"
      ]
     },
     "metadata": {
      "needs_background": "light"
     },
     "output_type": "display_data"
    }
   ],
   "source": [
    "plot_compare('LP_STATUS_FEIN')"
   ]
  },
  {
   "cell_type": "code",
   "execution_count": 26,
   "metadata": {},
   "outputs": [
    {
     "data": {
      "image/png": "[encoded data removed]",
      "text/plain": [
       "<Figure size 1008x288 with 2 Axes>"
      ]
     },
     "metadata": {
      "needs_background": "light"
     },
     "output_type": "display_data"
    }
   ],
   "source": [
    "plot_compare('HH_EINKOMMEN_SCORE')"
   ]
  },
  {
   "cell_type": "code",
   "execution_count": 27,
   "metadata": {},
   "outputs": [],
   "source": [
    "# Save data with many missing rows for later analysis \n",
    "azdias_many_missing = azdias.iloc[rows_many_missing.index]"
   ]
  },
  {
   "cell_type": "code",
   "execution_count": 28,
   "metadata": {},
   "outputs": [
    {
     "name": "stdout",
     "output_type": "stream",
     "text": [
      "rows before dropping null rows: 891221\n",
      "rows after dropping null rows: 797961\n"
     ]
    }
   ],
   "source": [
    "# Drop rows with many missing values\n",
    "\n",
    "print('rows before dropping null rows:', azdias.shape[0])\n",
    "\n",
    "azdias = azdias[~azdias.index.isin(rows_many_missing.index)]\n",
    "\n",
    "print('rows after dropping null rows:', azdias.shape[0])"
   ]
  },
  {
   "cell_type": "markdown",
   "metadata": {},
   "source": [
    "#### Discussion 1.1.3: Assess Missing Data in Each Row\n",
    "\n",
    "93260 rows or 10.46% of all data have 25 or more missing values. The data set was divided into two – rows with less than 25 and rows with more than 25 missing values. To compare the two data sets I’ve extracted the data for 5 columns with very few missing values:  \n",
    "- ALTERSKATEGORIE_GROB. Estimated age based on given name analysis  \n",
    "- GFK_URLAUBERTYP. Vacation habits   \n",
    "- ONLINE_AFFINITAET. Online affinity  \n",
    "- LP_STATUS_FEIN. Social status, fine scale  \n",
    "- HH_EINKOMMEN_SCORE. Estimated household net income  \n",
    "\n",
    "Almost all of them have quite different distributions between the two sets. This means that potentially dropping the rows with missing values may hurt the correctness of the analysis."
   ]
  },
  {
   "cell_type": "markdown",
   "metadata": {},
   "source": [
    "### Step 1.2: Select and Re-Encode Features\n",
    "\n",
    "Checking for missing data isn't the only way in which you can prepare a dataset for analysis. Since the unsupervised learning techniques to be used will only work on data that is encoded numerically, you need to make a few encoding changes or additional assumptions to be able to make progress. In addition, while almost all of the values in the dataset are encoded using numbers, not all of them represent numeric values. Check the third column of the feature summary (`feat_info`) for a summary of types of measurement.\n",
    "- For numeric and interval data, these features can be kept without changes.\n",
    "- Most of the variables in the dataset are ordinal in nature. While ordinal values may technically be non-linear in spacing, make the simplifying assumption that the ordinal variables can be treated as being interval in nature (that is, kept without any changes).\n",
    "- Special handling may be necessary for the remaining two variable types: categorical, and 'mixed'.\n",
    "\n",
    "In the first two parts of this sub-step, you will perform an investigation of the categorical and mixed-type features and make a decision on each of them, whether you will keep, drop, or re-encode each. Then, in the last part, you will create a new data frame with only the selected and engineered columns.\n",
    "\n",
    "Data wrangling is often the trickiest part of the data analysis process, and there's a lot of it to be done here. But stick with it: once you're done with this step, you'll be ready to get to the machine learning parts of the project!"
   ]
  },
  {
   "cell_type": "code",
   "execution_count": 29,
   "metadata": {},
   "outputs": [
    {
     "data": {
      "text/plain": [
       "ordinal        49\n",
       "categorical    18\n",
       "mixed           6\n",
       "numeric         6\n",
       "Name: type, dtype: int64"
      ]
     },
     "execution_count": 29,
     "metadata": {},
     "output_type": "execute_result"
    }
   ],
   "source": [
    "# How many features are there of each data type?\n",
    "\n",
    "feat_info['type'].value_counts()"
   ]
  },
  {
   "cell_type": "markdown",
   "metadata": {},
   "source": [
    "#### Step 1.2.1: Re-Encode Categorical Features\n",
    "\n",
    "For categorical data, you would ordinarily need to encode the levels as dummy variables. Depending on the number of categories, perform one of the following:\n",
    "- For binary (two-level) categoricals that take numeric values, you can keep them without needing to do anything.\n",
    "- There is one binary variable that takes on non-numeric values. For this one, you need to re-encode the values as numbers or create a dummy variable.\n",
    "- For multi-level categoricals (three or more values), you can choose to encode the values using multiple dummy variables (e.g. via [OneHotEncoder](http://scikit-learn.org/stable/modules/generated/sklearn.preprocessing.OneHotEncoder.html)), or (to keep things straightforward) just drop them from the analysis. As always, document your choices in the Discussion section."
   ]
  },
  {
   "cell_type": "code",
   "execution_count": 30,
   "metadata": {},
   "outputs": [
    {
     "data": {
      "text/plain": [
       "array(['ANREDE_KZ', 'CJT_GESAMTTYP', 'FINANZTYP', 'GFK_URLAUBERTYP',\n",
       "       'GREEN_AVANTGARDE', 'LP_FAMILIE_FEIN', 'LP_FAMILIE_GROB',\n",
       "       'LP_STATUS_FEIN', 'LP_STATUS_GROB', 'NATIONALITAET_KZ',\n",
       "       'SHOPPER_TYP', 'SOHO_KZ', 'VERS_TYP', 'ZABEOTYP', 'GEBAEUDETYP',\n",
       "       'OST_WEST_KZ', 'CAMEO_DEUG_2015', 'CAMEO_DEU_2015'], dtype=object)"
      ]
     },
     "execution_count": 30,
     "metadata": {},
     "output_type": "execute_result"
    }
   ],
   "source": [
    "# Assess categorical variables: which are binary, which are multi-level, and\n",
    "# which one needs to be re-encoded?\n",
    "cat_columns = feat_info.loc[feat_info['type'] == 'categorical', 'attribute'].values\n",
    "cat_columns"
   ]
  },
  {
   "cell_type": "code",
   "execution_count": 31,
   "metadata": {},
   "outputs": [],
   "source": [
    "col_binary = []\n",
    "col_multi = []\n",
    "for column in cat_columns:\n",
    "    if azdias[column].nunique() > 2:\n",
    "        col_multi.append(column)\n",
    "    else:\n",
    "        col_binary.append(column)"
   ]
  },
  {
   "cell_type": "code",
   "execution_count": 32,
   "metadata": {},
   "outputs": [
    {
     "name": "stdout",
     "output_type": "stream",
     "text": [
      "2    416117\n",
      "1    381844\n",
      "Name: ANREDE_KZ, dtype: int64\n",
      "0    622741\n",
      "1    175220\n",
      "Name: GREEN_AVANTGARDE, dtype: int64\n",
      "0.0    791245\n",
      "1.0      6716\n",
      "Name: SOHO_KZ, dtype: int64\n",
      "2.0    394229\n",
      "1.0    367052\n",
      "Name: VERS_TYP, dtype: int64\n",
      "W    629433\n",
      "O    168528\n",
      "Name: OST_WEST_KZ, dtype: int64\n"
     ]
    }
   ],
   "source": [
    "for c in col_binary:\n",
    "    print(azdias[c].value_counts())"
   ]
  },
  {
   "cell_type": "code",
   "execution_count": 33,
   "metadata": {},
   "outputs": [],
   "source": [
    "azdias['ANREDE_KZ'].replace([2,1], [1,0], inplace=True)\n",
    "azdias['VERS_TYP'].replace([2.0,1.0], [1,0], inplace=True)\n",
    "azdias['OST_WEST_KZ'].replace(['W','O'], [1,0], inplace=True)"
   ]
  },
  {
   "cell_type": "code",
   "execution_count": 34,
   "metadata": {},
   "outputs": [
    {
     "name": "stdout",
     "output_type": "stream",
     "text": [
      "1    416117\n",
      "0    381844\n",
      "Name: ANREDE_KZ, dtype: int64\n",
      "0    622741\n",
      "1    175220\n",
      "Name: GREEN_AVANTGARDE, dtype: int64\n",
      "0.0    791245\n",
      "1.0      6716\n",
      "Name: SOHO_KZ, dtype: int64\n",
      "1.0    394229\n",
      "0.0    367052\n",
      "Name: VERS_TYP, dtype: int64\n",
      "1    629433\n",
      "0    168528\n",
      "Name: OST_WEST_KZ, dtype: int64\n"
     ]
    }
   ],
   "source": [
    "for c in col_binary:\n",
    "    print(azdias[c].value_counts())"
   ]
  },
  {
   "cell_type": "code",
   "execution_count": 35,
   "metadata": {},
   "outputs": [],
   "source": [
    "# Re-encode categorical variable(s) to be kept in the analysis.\n",
    "\n",
    "azdias = pd.get_dummies(azdias, columns=col_multi)"
   ]
  },
  {
   "cell_type": "markdown",
   "metadata": {},
   "source": [
    "#### Discussion 1.2.1: Re-Encode Categorical Features\n",
    "\n",
    "The binary values - ANREDE_KZ, VERS_TYP, OST_WEST_KZ are encoded with are encoded with 0 and 1. For categorical features with multiple values, I've used the get_dummies function to convert categorical variable into dummy/indicator variables."
   ]
  },
  {
   "cell_type": "markdown",
   "metadata": {},
   "source": [
    "#### Step 1.2.2: Engineer Mixed-Type Features\n",
    "\n",
    "There are a handful of features that are marked as \"mixed\" in the feature summary that require special treatment in order to be included in the analysis. There are two in particular that deserve attention; the handling of the rest are up to your own choices:\n",
    "- \"PRAEGENDE_JUGENDJAHRE\" combines information on three dimensions: generation by decade, movement (mainstream vs. avantgarde), and nation (east vs. west). While there aren't enough levels to disentangle east from west, you should create two new variables to capture the other two dimensions: an interval-type variable for decade, and a binary variable for movement.\n",
    "- \"CAMEO_INTL_2015\" combines information on two axes: wealth and life stage. Break up the two-digit codes by their 'tens'-place and 'ones'-place digits into two new ordinal variables (which, for the purposes of this project, is equivalent to just treating them as their raw numeric values).\n",
    "- If you decide to keep or engineer new features around the other mixed-type features, make sure you note your steps in the Discussion section.\n",
    "\n",
    "Be sure to check `Data_Dictionary.md` for the details needed to finish these tasks."
   ]
  },
  {
   "cell_type": "code",
   "execution_count": 36,
   "metadata": {},
   "outputs": [
    {
     "data": {
      "text/html": [
       "<div>\n",
       "<style scoped>\n",
       "    .dataframe tbody tr th:only-of-type {\n",
       "        vertical-align: middle;\n",
       "    }\n",
       "\n",
       "    .dataframe tbody tr th {\n",
       "        vertical-align: top;\n",
       "    }\n",
       "\n",
       "    .dataframe thead th {\n",
       "        text-align: right;\n",
       "    }\n",
       "</style>\n",
       "<table border=\"1\" class=\"dataframe\">\n",
       "  <thead>\n",
       "    <tr style=\"text-align: right;\">\n",
       "      <th></th>\n",
       "      <th>PRAEGENDE_JUGENDJAHRE</th>\n",
       "    </tr>\n",
       "  </thead>\n",
       "  <tbody>\n",
       "    <tr>\n",
       "      <td>1</td>\n",
       "      <td>14.0</td>\n",
       "    </tr>\n",
       "    <tr>\n",
       "      <td>2</td>\n",
       "      <td>15.0</td>\n",
       "    </tr>\n",
       "    <tr>\n",
       "      <td>3</td>\n",
       "      <td>8.0</td>\n",
       "    </tr>\n",
       "    <tr>\n",
       "      <td>4</td>\n",
       "      <td>8.0</td>\n",
       "    </tr>\n",
       "    <tr>\n",
       "      <td>5</td>\n",
       "      <td>3.0</td>\n",
       "    </tr>\n",
       "  </tbody>\n",
       "</table>\n",
       "</div>"
      ],
      "text/plain": [
       "   PRAEGENDE_JUGENDJAHRE\n",
       "1                   14.0\n",
       "2                   15.0\n",
       "3                    8.0\n",
       "4                    8.0\n",
       "5                    3.0"
      ]
     },
     "execution_count": 36,
     "metadata": {},
     "output_type": "execute_result"
    }
   ],
   "source": [
    "azdias[['PRAEGENDE_JUGENDJAHRE']].head()"
   ]
  },
  {
   "cell_type": "code",
   "execution_count": 37,
   "metadata": {},
   "outputs": [],
   "source": [
    "# Map generation \n",
    "gen_dict = {0: [1, 2], 1: [3, 4], 2: [5, 6, 7], 3: [8, 9], 4: [10, 11, 12, 13], 5:[14, 15]}\n",
    "\n",
    "def map_gen(x):\n",
    "    try:\n",
    "        for key, array in gen_dict.items():\n",
    "            if x in array:\n",
    "                return key\n",
    "    except ValueError:\n",
    "        return np.nan\n",
    "    \n",
    "# Map movement \n",
    "mainstream = [1, 3, 5, 8, 10, 12, 14]\n",
    "\n",
    "def map_mov(x):\n",
    "    try:\n",
    "        if x in mainstream:\n",
    "            return 0\n",
    "        else:\n",
    "            return 1\n",
    "    except ValueError:\n",
    "        return np.nan"
   ]
  },
  {
   "cell_type": "code",
   "execution_count": 38,
   "metadata": {},
   "outputs": [],
   "source": [
    "# Investigate \"PRAEGENDE_JUGENDJAHRE\" and engineer two new variables.\n",
    "\n",
    "azdias['PRAEGENDE_JUGENDJAHRE_decade'] = azdias['PRAEGENDE_JUGENDJAHRE'].apply(map_gen)\n",
    "azdias['PRAEGENDE_JUGENDJAHRE_movement'] = azdias['PRAEGENDE_JUGENDJAHRE'].apply(map_mov)"
   ]
  },
  {
   "cell_type": "code",
   "execution_count": 39,
   "metadata": {},
   "outputs": [],
   "source": [
    "# Investigate \"CAMEO_INTL_2015\" and engineer two new variables.\n",
    "\n",
    "# Map wealth \n",
    "def map_wealth(x):\n",
    "    # Check of nan first, or it will convert nan to string 'nan'\n",
    "    if pd.isnull(x):\n",
    "        return np.nan\n",
    "    else:\n",
    "        return int(str(x)[0])\n",
    "\n",
    "# Map life stage\n",
    "def map_lifestage(x):\n",
    "    if pd.isnull(x):\n",
    "        return np.nan\n",
    "    else:\n",
    "        return int(str(x)[1])"
   ]
  },
  {
   "cell_type": "code",
   "execution_count": 40,
   "metadata": {},
   "outputs": [],
   "source": [
    "# Investigate \"CAMEO_INTL_2015\" and engineer two new variables.\n",
    "\n",
    "azdias['CAMEO_INTL_2015_wealth'] = azdias['CAMEO_INTL_2015'].apply(map_wealth)\n",
    "azdias['CAMEO_INTL_2015_lifestage'] = azdias['CAMEO_INTL_2015'].apply(map_lifestage)"
   ]
  },
  {
   "cell_type": "code",
   "execution_count": 41,
   "metadata": {},
   "outputs": [],
   "source": [
    "# Drop features we don't use anymore \n",
    "azdias = azdias.drop(['PRAEGENDE_JUGENDJAHRE', 'CAMEO_INTL_2015'], axis=1)"
   ]
  },
  {
   "cell_type": "markdown",
   "metadata": {},
   "source": [
    "#### Discussion 1.2.2: Engineer Mixed-Type Features\n",
    "\n",
    "PRAEGENDE_JUGENDJAHRE is decomposed into two features:  \n",
    "-\tPRAEGENDE_JUGENDJAHRE_decade – mapped to values 0 to 5\n",
    "-\tPRAEGENDE_JUGENDJAHRE_movement – mapped to 0 or 1 depending on whether the original feature value was mainstream or not \n",
    "\n",
    "CAMEO_INTL_2015 is decomposed into two features:  \n",
    "-\tCAMEO_INTL_2015_wealth – mapped to 1 to 5 based on the first digit of the original feature value  \n",
    "-\tCAMEO_INTL_2015_lifestage – mapped to 1 to 5 based on the second digit of the original feature value  \n",
    "\n",
    "The two original columns are dropped."
   ]
  },
  {
   "cell_type": "markdown",
   "metadata": {},
   "source": [
    "#### Step 1.2.3: Complete Feature Selection\n",
    "\n",
    "In order to finish this step up, you need to make sure that your data frame now only has the columns that you want to keep. To summarize, the dataframe should consist of the following:\n",
    "- All numeric, interval, and ordinal type columns from the original dataset.\n",
    "- Binary categorical features (all numerically-encoded).\n",
    "- Engineered features from other multi-level categorical features and mixed features.\n",
    "\n",
    "Make sure that for any new columns that you have engineered, that you've excluded the original columns from the final dataset. Otherwise, their values will interfere with the analysis later on the project. For example, you should not keep \"PRAEGENDE_JUGENDJAHRE\", since its values won't be useful for the algorithm: only the values derived from it in the engineered features you created should be retained. As a reminder, your data should only be from **the subset with few or no missing values**."
   ]
  },
  {
   "cell_type": "code",
   "execution_count": 42,
   "metadata": {},
   "outputs": [
    {
     "data": {
      "text/plain": [
       "array([dtype('uint8'), dtype('int64'), dtype('float64')], dtype=object)"
      ]
     },
     "execution_count": 42,
     "metadata": {},
     "output_type": "execute_result"
    }
   ],
   "source": [
    "# Check that columns have the right type\n",
    "np.unique(azdias.dtypes.values)"
   ]
  },
  {
   "cell_type": "markdown",
   "metadata": {},
   "source": [
    "### Step 1.3: Create a Cleaning Function\n",
    "\n",
    "Even though you've finished cleaning up the general population demographics data, it's important to look ahead to the future and realize that you'll need to perform the same cleaning steps on the customer demographics data. In this substep, complete the function below to execute the main feature selection, encoding, and re-engineering steps you performed above. Then, when it comes to looking at the customer data in Step 3, you can just run this function on that DataFrame to get the trimmed dataset in a single step."
   ]
  },
  {
   "cell_type": "code",
   "execution_count": 43,
   "metadata": {},
   "outputs": [],
   "source": [
    "def clean_data(df):\n",
    "    \"\"\"\n",
    "    Perform feature trimming, re-encoding, and engineering for demographics\n",
    "    data\n",
    "    \n",
    "    INPUT: Demographics DataFrame\n",
    "    OUTPUT: Trimmed and cleaned demographics DataFrame\n",
    "    \"\"\"\n",
    "    \n",
    "    # convert missing value codes into NaNs, ...\n",
    "    for column in df.columns:\n",
    "        df[column] = df[column].replace(feature_name_to_missing_codes[column], np.nan) \n",
    "    \n",
    "    # remove selected columns and rows, ...\n",
    "    df = df.drop(drop_columns, axis=1)\n",
    "    \n",
    "    nan_rowcount = df.isnull().sum(axis=1)\n",
    "    \n",
    "    rows_many_missing = nan_rowcount[nan_rowcount > 30]\n",
    "    \n",
    "    df_many_missing = df.iloc[rows_many_missing.index]\n",
    "    \n",
    "    df = df[~df.index.isin(rows_many_missing.index)]\n",
    "    \n",
    "    df['ANREDE_KZ'].replace([2,1], [1,0], inplace=True)\n",
    "    df['VERS_TYP'].replace([2.0,1.0], [1,0], inplace=True)\n",
    "    df['OST_WEST_KZ'].replace(['W','O'], [1,0], inplace=True)\n",
    "    \n",
    "    df = pd.get_dummies(df, columns=col_multi)\n",
    "    \n",
    "    # select, re-encode, and engineer column values.\n",
    "    df['PRAEGENDE_JUGENDJAHRE_decade'] = df['PRAEGENDE_JUGENDJAHRE'].apply(map_gen)\n",
    "    df['PRAEGENDE_JUGENDJAHRE_movement'] = df['PRAEGENDE_JUGENDJAHRE'].apply(map_mov)\n",
    "    \n",
    "    \n",
    "    df['CAMEO_INTL_2015_wealth'] = df['CAMEO_INTL_2015'].apply(map_wealth)\n",
    "    df['CAMEO_INTL_2015_lifestage'] = df['CAMEO_INTL_2015'].apply(map_lifestage)\n",
    "    \n",
    "    df = df.drop(['PRAEGENDE_JUGENDJAHRE', 'CAMEO_INTL_2015'], axis=1)\n",
    "    \n",
    "    # Return the cleaned dataframe.\n",
    "    return df, df_many_missing"
   ]
  },
  {
   "cell_type": "markdown",
   "metadata": {},
   "source": [
    "## Step 2: Feature Transformation\n",
    "\n",
    "### Step 2.1: Apply Feature Scaling\n",
    "\n",
    "Before we apply dimensionality reduction techniques to the data, we need to perform feature scaling so that the principal component vectors are not influenced by the natural differences in scale for features. Starting from this part of the project, you'll want to keep an eye on the [API reference page for sklearn](http://scikit-learn.org/stable/modules/classes.html) to help you navigate to all of the classes and functions that you'll need. In this substep, you'll need to check the following:\n",
    "\n",
    "- sklearn requires that data not have missing values in order for its estimators to work properly. So, before applying the scaler to your data, make sure that you've cleaned the DataFrame of the remaining missing values. This can be as simple as just removing all data points with missing data, or applying an [Imputer](http://scikit-learn.org/stable/modules/generated/sklearn.preprocessing.Imputer.html) to replace all missing values. You might also try a more complicated procedure where you temporarily remove missing values in order to compute the scaling parameters before re-introducing those missing values and applying imputation. Think about how much missing data you have and what possible effects each approach might have on your analysis, and justify your decision in the discussion section below.\n",
    "- For the actual scaling function, a [StandardScaler](http://scikit-learn.org/stable/modules/generated/sklearn.preprocessing.StandardScaler.html) instance is suggested, scaling each feature to mean 0 and standard deviation 1.\n",
    "- For these classes, you can make use of the `.fit_transform()` method to both fit a procedure to the data as well as apply the transformation to the data at the same time. Don't forget to keep the fit sklearn objects handy, since you'll be applying them to the customer demographics data towards the end of the project."
   ]
  },
  {
   "cell_type": "code",
   "execution_count": 44,
   "metadata": {},
   "outputs": [
    {
     "name": "stderr",
     "output_type": "stream",
     "text": [
      "D:\\Users\\Vasil\\Anaconda3\\lib\\site-packages\\sklearn\\utils\\deprecation.py:66: DeprecationWarning: Class Imputer is deprecated; Imputer was deprecated in version 0.20 and will be removed in 0.22. Import impute.SimpleImputer from sklearn instead.\n",
      "  warnings.warn(msg, category=DeprecationWarning)\n"
     ]
    }
   ],
   "source": [
    "# Apply feature scaling to the general population demographics data.\n",
    "features = azdias.copy()\n",
    "\n",
    "# Impute nans\n",
    "imputer = Imputer()\n",
    "imputed_features = imputer.fit_transform(features)"
   ]
  },
  {
   "cell_type": "code",
   "execution_count": 45,
   "metadata": {},
   "outputs": [],
   "source": [
    "scaler = StandardScaler()\n",
    "standardized_features = scaler.fit_transform(imputed_features)"
   ]
  },
  {
   "cell_type": "markdown",
   "metadata": {},
   "source": [
    "### Discussion 2.1: Apply Feature Scaling\n",
    "\n",
    "The values are imputed. Also, the features are standardized using StandardScaler, so they are mapped to the range (-1,1)"
   ]
  },
  {
   "cell_type": "markdown",
   "metadata": {},
   "source": [
    "### Step 2.2: Perform Dimensionality Reduction\n",
    "\n",
    "On your scaled data, you are now ready to apply dimensionality reduction techniques.\n",
    "\n",
    "- Use sklearn's [PCA](http://scikit-learn.org/stable/modules/generated/sklearn.decomposition.PCA.html) class to apply principal component analysis on the data, thus finding the vectors of maximal variance in the data. To start, you should not set any parameters (so all components are computed) or set a number of components that is at least half the number of features (so there's enough features to see the general trend in variability).\n",
    "- Check out the ratio of variance explained by each principal component as well as the cumulative variance explained. Try plotting the cumulative or sequential values using matplotlib's [`plot()`](https://matplotlib.org/api/_as_gen/matplotlib.pyplot.plot.html) function. Based on what you find, select a value for the number of transformed features you'll retain for the clustering part of the project.\n",
    "- Once you've made a choice for the number of components to keep, make sure you re-fit a PCA instance to perform the decided-on transformation."
   ]
  },
  {
   "cell_type": "code",
   "execution_count": 46,
   "metadata": {},
   "outputs": [],
   "source": [
    "# Apply PCA to the data.\n",
    "\n",
    "pca = PCA(100)\n",
    "pca_features = pca.fit_transform(standardized_features)"
   ]
  },
  {
   "cell_type": "code",
   "execution_count": 47,
   "metadata": {},
   "outputs": [],
   "source": [
    "# Investigate the variance accounted for by each principal component.\n",
    "\n",
    "def scree_plot(pca):\n",
    "    '''\n",
    "    Creates a scree plot associated with the principal components \n",
    "    \n",
    "    INPUT: pca - the result of instantian of PCA in scikit learn\n",
    "            \n",
    "    OUTPUT:\n",
    "            None\n",
    "    '''\n",
    "    num_components=len(pca.explained_variance_ratio_)\n",
    "    ind = np.arange(num_components)\n",
    "    vals = pca.explained_variance_ratio_\n",
    " \n",
    "    plt.figure(figsize=(18, 6))\n",
    "    ax = plt.subplot(111)\n",
    "    cumvals = np.cumsum(vals)\n",
    "    ax.bar(ind, vals)\n",
    "    ax.plot(ind, cumvals)\n",
    "    for i in range(num_components):\n",
    "        ax.annotate(r\"%s\" % ((str(vals[i]*100)[:3])), (ind[i], vals[i]), va=\"bottom\", ha=\"center\", fontsize=4.5)\n",
    " \n",
    "    ax.xaxis.set_tick_params(width=0)\n",
    "    ax.yaxis.set_tick_params(width=2, length=12)\n",
    " \n",
    "    ax.set_xlabel(\"Principal Component\")\n",
    "    ax.set_ylabel(\"Variance Explained (%)\")\n",
    "    plt.title('Explained Variance Per Principal Component')"
   ]
  },
  {
   "cell_type": "code",
   "execution_count": 48,
   "metadata": {},
   "outputs": [
    {
     "data": {
      "image/png": "[encoded data removed]",
      "text/plain": [
       "<Figure size 1296x432 with 1 Axes>"
      ]
     },
     "metadata": {
      "needs_background": "light"
     },
     "output_type": "display_data"
    }
   ],
   "source": [
    "scree_plot(pca)"
   ]
  },
  {
   "cell_type": "code",
   "execution_count": 49,
   "metadata": {},
   "outputs": [],
   "source": [
    "# Re-apply PCA to the data while selecting for number of components to retain.\n",
    "\n",
    "pca = PCA(50)\n",
    "pca_features = pca.fit_transform(standardized_features)"
   ]
  },
  {
   "cell_type": "code",
   "execution_count": 50,
   "metadata": {},
   "outputs": [
    {
     "data": {
      "image/png": "[encoded data removed]",
      "text/plain": [
       "<Figure size 1296x432 with 1 Axes>"
      ]
     },
     "metadata": {
      "needs_background": "light"
     },
     "output_type": "display_data"
    }
   ],
   "source": [
    "scree_plot(pca)"
   ]
  },
  {
   "cell_type": "markdown",
   "metadata": {},
   "source": [
    "### Discussion 2.2: Perform Dimensionality Reduction\n",
    "\n",
    "First, I applied PCA using retaining 100 principal components, which is almost half of the features. The cumulative variance was around 80%. I decided to take half of that and apply PCA with 50 principal components, which looks like a good tradeoff as it still retains about 60% of the variance."
   ]
  },
  {
   "cell_type": "markdown",
   "metadata": {},
   "source": [
    "### Step 2.3: Interpret Principal Components\n",
    "\n",
    "Now that we have our transformed principal components, it's a nice idea to check out the weight of each variable on the first few components to see if they can be interpreted in some fashion.\n",
    "\n",
    "As a reminder, each principal component is a unit vector that points in the direction of highest variance (after accounting for the variance captured by earlier principal components). The further a weight is from zero, the more the principal component is in the direction of the corresponding feature. If two features have large weights of the same sign (both positive or both negative), then increases in one tend expect to be associated with increases in the other. To contrast, features with different signs can be expected to show a negative correlation: increases in one variable should result in a decrease in the other.\n",
    "\n",
    "- To investigate the features, you should map each weight to their corresponding feature name, then sort the features according to weight. The most interesting features for each principal component, then, will be those at the beginning and end of the sorted list. Use the data dictionary document to help you understand these most prominent features, their relationships, and what a positive or negative value on the principal component might indicate.\n",
    "- You should investigate and interpret feature associations from the first three principal components in this substep. To help facilitate this, you should write a function that you can call at any time to print the sorted list of feature weights, for the *i*-th principal component. This might come in handy in the next step of the project, when you interpret the tendencies of the discovered clusters."
   ]
  },
  {
   "cell_type": "code",
   "execution_count": 51,
   "metadata": {},
   "outputs": [],
   "source": [
    "# Map weights for the first principal component to corresponding feature names\n",
    "# and then print the linked values, sorted by weight.\n",
    "# HINT: Try defining a function here or in a new cell that you can reuse in the\n",
    "# other cells.\n",
    "\n",
    "def plot_pca(data, pca, n_compo):\n",
    "    '''\n",
    "\tPlot the features with the most absolute variance for given pca component \n",
    "\t'''\n",
    "    compo = pd.DataFrame(np.round(pca.components_, 4), columns = data.keys()).iloc[n_compo-1]\n",
    "    compo.sort_values(ascending=False, inplace=True)\n",
    "    compo = pd.concat([compo.head(5), compo.tail(5)])\n",
    "    \n",
    "    compo.plot(kind='bar', title='Component ' + str(n_compo))\n",
    "    ax = plt.gca()\n",
    "    ax.grid(linewidth='0.5', alpha=0.5)\n",
    "    ax.set_axisbelow(True)\n",
    "    plt.show()"
   ]
  },
  {
   "cell_type": "code",
   "execution_count": 52,
   "metadata": {},
   "outputs": [
    {
     "data": {
      "image/png": "[encoded data removed]",
      "text/plain": [
       "<Figure size 432x288 with 1 Axes>"
      ]
     },
     "metadata": {
      "needs_background": "light"
     },
     "output_type": "display_data"
    }
   ],
   "source": [
    "plot_pca(azdias, pca, 1)"
   ]
  },
  {
   "cell_type": "code",
   "execution_count": 53,
   "metadata": {},
   "outputs": [
    {
     "data": {
      "image/png": "[encoded data removed]",
      "text/plain": [
       "<Figure size 432x288 with 1 Axes>"
      ]
     },
     "metadata": {
      "needs_background": "light"
     },
     "output_type": "display_data"
    }
   ],
   "source": [
    "# Map weights for the second principal component to corresponding feature names\n",
    "# and then print the linked values, sorted by weight.\n",
    "\n",
    "plot_pca(azdias, pca, 2)"
   ]
  },
  {
   "cell_type": "code",
   "execution_count": 54,
   "metadata": {},
   "outputs": [
    {
     "data": {
      "image/png": "[encoded data removed]",
      "text/plain": [
       "<Figure size 432x288 with 1 Axes>"
      ]
     },
     "metadata": {
      "needs_background": "light"
     },
     "output_type": "display_data"
    }
   ],
   "source": [
    "# Map weights for the third principal component to corresponding feature names\n",
    "# and then print the linked values, sorted by weight.\n",
    "\n",
    "plot_pca(azdias, pca, 3)"
   ]
  },
  {
   "cell_type": "markdown",
   "metadata": {},
   "source": [
    "### Discussion 2.3: Interpret Principal Components\n",
    "\n",
    "First Principal Component  \n",
    "Positive association with:  \n",
    "•\tLP_STATUS_GROB_1: Social status, low-income earners (binary)  \n",
    "•\tHH_EINKOMMEN_SCORE: Estimated household net income (higher is lower income)  \n",
    "•\tCAMEO_INTL_2015_wealth: Household wealth (higher is lower income)  \n",
    "\n",
    "Negative association with:  \n",
    "•\tMOBI_REGIO: Movement patterns (higher is lower movement)  \n",
    "•\tKBA05_ANTG1: Number of 1-2 family houses in the microcell (higher is higher share of 1-2 family homes in cell)  \n",
    "•\tFINANZ_MINIMALIST: Financial topology, low financial interest (higher is lower topology)  \n",
    "\n",
    "The First Principal Component is influenced primarily by financial stability factors, movement and shared of 1-2 family homes.\n",
    "\n",
    "Second Principal Component  \n",
    "Positive association with:  \n",
    "•\tALTERSKATEGORIE_GROB: Estimated age (higher is older)  \n",
    "•\tFINANZ_VORSORGER: Financial typology, be prepared (higher is lower topology)  \n",
    "•\tZABEOTYP_3: Energy consumption, fair supplied (binary)  \n",
    "\n",
    "Negative association with:  \n",
    "•\tPRAEGENDE_JUGENDJAHRE_decade: Decade of movement of person's youth (highest is 90s)  \n",
    "•\tFINANZ_SPARER: Financial typology, money-saver (higher is lower topology)  \n",
    "•\tFINANZ_UNAUFFAELLIGER: Financial typology, inconspicuous (higher is lower topology)  \n",
    "\n",
    "The Second Principal Component is mainly related to age and financial typology.\n",
    "\n",
    "Third Principal Component  \n",
    "Positive association with:  \n",
    "•\tSEMIO_VERT: Personality typology, dreamful (higher is lower affinity)  \n",
    "•\tSEMIO_FAM: Personality typology, family-minded (higher is lower affinity)  \n",
    "•\tSEMIO_SOZ: Personality typology, socially-minded (higher is lower affinity)  \n",
    "  \n",
    "Negative association with:  \n",
    "•\tANREDE_KZ: Gender (2 is female)  \n",
    "•\tSEMIO_KAEM: Personality typology, combative attitude (higher is lower affinity)  \n",
    "•\tSEMIO_DOM: Personality typology, dominant-minded (higher is lower affinity)  \n",
    "  \n",
    "The Third Principal Component is mainly related to gender and personality.\n"
   ]
  },
  {
   "cell_type": "markdown",
   "metadata": {},
   "source": [
    "## Step 3: Clustering\n",
    "\n",
    "### Step 3.1: Apply Clustering to General Population\n",
    "\n",
    "You've assessed and cleaned the demographics data, then scaled and transformed them. Now, it's time to see how the data clusters in the principal components space. In this substep, you will apply k-means clustering to the dataset and use the average within-cluster distances from each point to their assigned cluster's centroid to decide on a number of clusters to keep.\n",
    "\n",
    "- Use sklearn's [KMeans](http://scikit-learn.org/stable/modules/generated/sklearn.cluster.KMeans.html#sklearn.cluster.KMeans) class to perform k-means clustering on the PCA-transformed data.\n",
    "- Then, compute the average difference from each point to its assigned cluster's center. **Hint**: The KMeans object's `.score()` method might be useful here, but note that in sklearn, scores tend to be defined so that larger is better. Try applying it to a small, toy dataset, or use an internet search to help your understanding.\n",
    "- Perform the above two steps for a number of different cluster counts. You can then see how the average distance decreases with an increasing number of clusters. However, each additional cluster provides a smaller net benefit. Use this fact to select a final number of clusters in which to group the data. **Warning**: because of the large size of the dataset, it can take a long time for the algorithm to resolve. The more clusters to fit, the longer the algorithm will take. You should test for cluster counts through at least 10 clusters to get the full picture, but you shouldn't need to test for a number of clusters above about 30.\n",
    "- Once you've selected a final number of clusters to use, re-fit a KMeans instance to perform the clustering operation. Make sure that you also obtain the cluster assignments for the general demographics data, since you'll be using them in the final Step 3.3."
   ]
  },
  {
   "cell_type": "code",
   "execution_count": 55,
   "metadata": {},
   "outputs": [],
   "source": [
    "pca_features_sample = pca_features[np.random.choice(pca_features.shape[0], int(pca_features.shape[0]*0.2), replace=False)]"
   ]
  },
  {
   "cell_type": "code",
   "execution_count": 56,
   "metadata": {},
   "outputs": [
    {
     "data": {
      "text/plain": [
       "array([[-6.49743434e+00,  3.28152444e+00, -2.31912461e+00, ...,\n",
       "        -1.77947594e-01,  5.29461034e-02, -1.32234022e-01],\n",
       "       [-3.99324452e+00,  7.78742168e-01, -3.53319315e+00, ...,\n",
       "        -1.65743788e-01, -7.75130027e-02, -7.07744323e-01],\n",
       "       [ 1.83895488e+00, -4.48311452e+00, -4.36114462e+00, ...,\n",
       "        -3.45221435e-02,  1.10062412e+00,  4.69114062e-01],\n",
       "       ...,\n",
       "       [-3.87306485e-01,  4.36786663e+00, -1.81418590e+00, ...,\n",
       "        -2.83597279e-01,  2.31354302e-01, -1.65099677e-03],\n",
       "       [ 6.12420644e+00,  8.54397828e-01, -2.48006561e+00, ...,\n",
       "        -7.15724495e-01, -1.80125216e+00,  6.01730305e-01],\n",
       "       [-5.46882044e+00,  3.72846864e+00,  1.57268466e+00, ...,\n",
       "        -7.27106129e-01, -1.40499323e+00, -1.80340766e-01]])"
      ]
     },
     "execution_count": 56,
     "metadata": {},
     "output_type": "execute_result"
    }
   ],
   "source": [
    "pca_features_sample"
   ]
  },
  {
   "cell_type": "code",
   "execution_count": 57,
   "metadata": {},
   "outputs": [
    {
     "name": "stdout",
     "output_type": "stream",
     "text": [
      "--- Run time: 19.37 mins ---\n"
     ]
    },
    {
     "data": {
      "image/png": "[encoded data removed]",
      "text/plain": [
       "<Figure size 432x288 with 1 Axes>"
      ]
     },
     "metadata": {
      "needs_background": "light"
     },
     "output_type": "display_data"
    }
   ],
   "source": [
    "# Over a number of different cluster counts...\n",
    "    # run k-means clustering on the data and...\n",
    "    # compute the average within-cluster distances.\n",
    "start_time = time.time()\n",
    "\n",
    "sse = []\n",
    "k_range = np.arange(10, 30)\n",
    "\n",
    "for k in k_range:\n",
    "    kmeans = KMeans(k).fit(pca_features_sample)\n",
    "    sse.append(np.abs(kmeans.score(pca_features_sample)))\n",
    "    \n",
    "# Investigate the change in within-cluster distance across number of clusters.\n",
    "# HINT: Use matplotlib's plot function to visualize this relationship.\n",
    "\n",
    "plt.plot(k_range, sse, linestyle='-', marker='o');\n",
    "plt.xlabel('K');\n",
    "plt.ylabel('SSE');\n",
    "plt.title('SSE vs. K');\n",
    "\n",
    "print(\"--- Run time: %s mins ---\" % np.round(((time.time() - start_time)/60),2))"
   ]
  },
  {
   "cell_type": "code",
   "execution_count": 100,
   "metadata": {},
   "outputs": [
    {
     "name": "stdout",
     "output_type": "stream",
     "text": [
      "393.3016061782837\n"
     ]
    }
   ],
   "source": [
    "# Re-fit the k-means model with the selected number of clusters and obtain\n",
    "# cluster predictions for the general population demographics data.\n",
    "\n",
    "start_time = time.time()\n",
    "\n",
    "kmeans = KMeans(25).fit(pca_features)\n",
    "\n",
    "kmeans_labels = kmeans.predict(pca_features)\n",
    "\n",
    "print(time.time() - start_time)"
   ]
  },
  {
   "cell_type": "code",
   "execution_count": 101,
   "metadata": {},
   "outputs": [
    {
     "data": {
      "text/plain": [
       "array([10,  1, 19, ...,  1,  4, 15])"
      ]
     },
     "execution_count": 101,
     "metadata": {},
     "output_type": "execute_result"
    }
   ],
   "source": [
    "kmeans_labels"
   ]
  },
  {
   "cell_type": "markdown",
   "metadata": {},
   "source": [
    "### Discussion 3.1: Apply Clustering to General Population\n",
    "\n",
    "To reduce the computation time, I apply k-means to only 20% of the data. The sample was used to run k-means with 10 to 30 clusters. The score for every iteration was plotted so we can see the dependency between the clusters number and the score. Unfortunately, there isn’t a clear elbow – a point when the benefits of adding more clusters decrease drastically. Therefore a reasonable number of 25 clusters is selected to re-fit the model for the whole data set."
   ]
  },
  {
   "cell_type": "markdown",
   "metadata": {},
   "source": [
    "### Step 3.2: Apply All Steps to the Customer Data\n",
    "\n",
    "Now that you have clusters and cluster centers for the general population, it's time to see how the customer data maps on to those clusters. Take care to not confuse this for re-fitting all of the models to the customer data. Instead, you're going to use the fits from the general population to clean, transform, and cluster the customer data. In the last step of the project, you will interpret how the general population fits apply to the customer data.\n",
    "\n",
    "- Don't forget when loading in the customers data, that it is semicolon (`;`) delimited.\n",
    "- Apply the same feature wrangling, selection, and engineering steps to the customer demographics using the `clean_data()` function you created earlier. (You can assume that the customer demographics data has similar meaning behind missing data patterns as the general demographics data.)\n",
    "- Use the sklearn objects from the general demographics data, and apply their transformations to the customers data. That is, you should not be using a `.fit()` or `.fit_transform()` method to re-fit the old objects, nor should you be creating new sklearn objects! Carry the data through the feature scaling, PCA, and clustering steps, obtaining cluster assignments for all of the data in the customer demographics data."
   ]
  },
  {
   "cell_type": "code",
   "execution_count": 102,
   "metadata": {},
   "outputs": [
    {
     "data": {
      "text/plain": [
       "<bound method NDFrame.head of         AGER_TYP  ALTERSKATEGORIE_GROB  ANREDE_KZ  CJT_GESAMTTYP  \\\n",
       "0              2                     4          1            5.0   \n",
       "1             -1                     4          1            NaN   \n",
       "2             -1                     4          2            2.0   \n",
       "3              1                     4          1            2.0   \n",
       "4             -1                     3          1            6.0   \n",
       "...          ...                   ...        ...            ...   \n",
       "191647         1                     3          1            4.0   \n",
       "191648        -1                     4          2            2.0   \n",
       "191649         2                     4          1            2.0   \n",
       "191650         3                     3          2            4.0   \n",
       "191651         3                     2          1            2.0   \n",
       "\n",
       "        FINANZ_MINIMALIST  FINANZ_SPARER  FINANZ_VORSORGER  FINANZ_ANLEGER  \\\n",
       "0                       5              1                 5               1   \n",
       "1                       5              1                 5               1   \n",
       "2                       5              1                 5               1   \n",
       "3                       5              1                 5               2   \n",
       "4                       3              1                 4               4   \n",
       "...                   ...            ...               ...             ...   \n",
       "191647                  5              1                 5               1   \n",
       "191648                  5              1                 5               2   \n",
       "191649                  5              1                 5               1   \n",
       "191650                  2              1                 5               1   \n",
       "191651                  5              1                 5               1   \n",
       "\n",
       "        FINANZ_UNAUFFAELLIGER  FINANZ_HAUSBAUER  ...  PLZ8_ANTG1  PLZ8_ANTG2  \\\n",
       "0                           2                 2  ...         3.0         3.0   \n",
       "1                           3                 2  ...         NaN         NaN   \n",
       "2                           4                 4  ...         2.0         3.0   \n",
       "3                           1                 2  ...         3.0         2.0   \n",
       "4                           5                 2  ...         2.0         4.0   \n",
       "...                       ...               ...  ...         ...         ...   \n",
       "191647                      1                 2  ...         2.0         4.0   \n",
       "191648                      2                 3  ...         NaN         NaN   \n",
       "191649                      1                 2  ...         3.0         2.0   \n",
       "191650                      2                 5  ...         3.0         2.0   \n",
       "191651                      1                 2  ...         3.0         2.0   \n",
       "\n",
       "        PLZ8_ANTG3  PLZ8_ANTG4  PLZ8_BAUMAX  PLZ8_HHZ  PLZ8_GBZ  ARBEIT  \\\n",
       "0              1.0         0.0          1.0       5.0       5.0     1.0   \n",
       "1              NaN         NaN          NaN       NaN       NaN     NaN   \n",
       "2              3.0         1.0          3.0       3.0       2.0     3.0   \n",
       "3              1.0         0.0          1.0       3.0       4.0     1.0   \n",
       "4              2.0         1.0          2.0       3.0       3.0     3.0   \n",
       "...            ...         ...          ...       ...       ...     ...   \n",
       "191647         2.0         1.0          2.0       5.0       4.0     3.0   \n",
       "191648         NaN         NaN          NaN       NaN       NaN     1.0   \n",
       "191649         2.0         1.0          1.0       5.0       5.0     3.0   \n",
       "191650         1.0         1.0          1.0       2.0       3.0     3.0   \n",
       "191651         0.0         0.0          1.0       4.0       5.0     1.0   \n",
       "\n",
       "        ORTSGR_KLS9  RELAT_AB  \n",
       "0               2.0       1.0  \n",
       "1               NaN       NaN  \n",
       "2               5.0       3.0  \n",
       "3               3.0       1.0  \n",
       "4               5.0       1.0  \n",
       "...             ...       ...  \n",
       "191647          8.0       5.0  \n",
       "191648          4.0       1.0  \n",
       "191649          7.0       5.0  \n",
       "191650          4.0       4.0  \n",
       "191651          3.0       1.0  \n",
       "\n",
       "[191652 rows x 85 columns]>"
      ]
     },
     "execution_count": 102,
     "metadata": {},
     "output_type": "execute_result"
    }
   ],
   "source": [
    "# Load in the customer demographics data.\n",
    "\n",
    "customers = pd.read_csv('Udacity_CUSTOMERS_Subset.csv', sep=';')\n",
    "customers.head"
   ]
  },
  {
   "cell_type": "code",
   "execution_count": 103,
   "metadata": {},
   "outputs": [
    {
     "data": {
      "text/plain": [
       "{'AGER_TYP': [-1, 0],\n",
       " 'ALTERSKATEGORIE_GROB': [-1, 0, 9],\n",
       " 'ANREDE_KZ': [-1, 0],\n",
       " 'CJT_GESAMTTYP': [0],\n",
       " 'FINANZ_MINIMALIST': [-1],\n",
       " 'FINANZ_SPARER': [-1],\n",
       " 'FINANZ_VORSORGER': [-1],\n",
       " 'FINANZ_ANLEGER': [-1],\n",
       " 'FINANZ_UNAUFFAELLIGER': [-1],\n",
       " 'FINANZ_HAUSBAUER': [-1],\n",
       " 'FINANZTYP': [-1],\n",
       " 'GEBURTSJAHR': [0],\n",
       " 'GFK_URLAUBERTYP': [''],\n",
       " 'GREEN_AVANTGARDE': [''],\n",
       " 'HEALTH_TYP': [-1, 0],\n",
       " 'LP_LEBENSPHASE_FEIN': [0],\n",
       " 'LP_LEBENSPHASE_GROB': [0],\n",
       " 'LP_FAMILIE_FEIN': [0],\n",
       " 'LP_FAMILIE_GROB': [0],\n",
       " 'LP_STATUS_FEIN': [0],\n",
       " 'LP_STATUS_GROB': [0],\n",
       " 'NATIONALITAET_KZ': [-1, 0],\n",
       " 'PRAEGENDE_JUGENDJAHRE': [-1, 0],\n",
       " 'RETOURTYP_BK_S': [0],\n",
       " 'SEMIO_SOZ': [-1, 9],\n",
       " 'SEMIO_FAM': [-1, 9],\n",
       " 'SEMIO_REL': [-1, 9],\n",
       " 'SEMIO_MAT': [-1, 9],\n",
       " 'SEMIO_VERT': [-1, 9],\n",
       " 'SEMIO_LUST': [-1, 9],\n",
       " 'SEMIO_ERL': [-1, 9],\n",
       " 'SEMIO_KULT': [-1, 9],\n",
       " 'SEMIO_RAT': [-1, 9],\n",
       " 'SEMIO_KRIT': [-1, 9],\n",
       " 'SEMIO_DOM': [-1, 9],\n",
       " 'SEMIO_KAEM': [-1, 9],\n",
       " 'SEMIO_PFLICHT': [-1, 9],\n",
       " 'SEMIO_TRADV': [-1, 9],\n",
       " 'SHOPPER_TYP': [-1],\n",
       " 'SOHO_KZ': [-1],\n",
       " 'TITEL_KZ': [-1, 0],\n",
       " 'VERS_TYP': [-1],\n",
       " 'ZABEOTYP': [-1, 9],\n",
       " 'ALTER_HH': [0],\n",
       " 'ANZ_PERSONEN': [''],\n",
       " 'ANZ_TITEL': [''],\n",
       " 'HH_EINKOMMEN_SCORE': [-1, 0],\n",
       " 'KK_KUNDENTYP': [-1],\n",
       " 'W_KEIT_KIND_HH': [-1, 0],\n",
       " 'WOHNDAUER_2008': [-1, 0],\n",
       " 'ANZ_HAUSHALTE_AKTIV': [0],\n",
       " 'ANZ_HH_TITEL': [''],\n",
       " 'GEBAEUDETYP': [-1, 0],\n",
       " 'KONSUMNAEHE': [''],\n",
       " 'MIN_GEBAEUDEJAHR': [0],\n",
       " 'OST_WEST_KZ': [-1],\n",
       " 'WOHNLAGE': [-1],\n",
       " 'CAMEO_DEUG_2015': [-1, 'X'],\n",
       " 'CAMEO_DEU_2015': ['XX'],\n",
       " 'CAMEO_INTL_2015': [-1, 'XX'],\n",
       " 'KBA05_ANTG1': [-1],\n",
       " 'KBA05_ANTG2': [-1],\n",
       " 'KBA05_ANTG3': [-1],\n",
       " 'KBA05_ANTG4': [-1],\n",
       " 'KBA05_BAUMAX': [-1, 0],\n",
       " 'KBA05_GBZ': [-1, 0],\n",
       " 'BALLRAUM': [-1],\n",
       " 'EWDICHTE': [-1],\n",
       " 'INNENSTADT': [-1],\n",
       " 'GEBAEUDETYP_RASTER': [''],\n",
       " 'KKK': [-1, 0],\n",
       " 'MOBI_REGIO': [''],\n",
       " 'ONLINE_AFFINITAET': [''],\n",
       " 'REGIOTYP': [-1, 0],\n",
       " 'KBA13_ANZAHL_PKW': [''],\n",
       " 'PLZ8_ANTG1': [-1],\n",
       " 'PLZ8_ANTG2': [-1],\n",
       " 'PLZ8_ANTG3': [-1],\n",
       " 'PLZ8_ANTG4': [-1],\n",
       " 'PLZ8_BAUMAX': [-1, 0],\n",
       " 'PLZ8_HHZ': [-1],\n",
       " 'PLZ8_GBZ': [-1],\n",
       " 'ARBEIT': [-1, 9],\n",
       " 'ORTSGR_KLS9': [-1, 0],\n",
       " 'RELAT_AB': [-1, 9]}"
      ]
     },
     "metadata": {},
     "output_type": "display_data"
    }
   ],
   "source": [
    "display(feature_name_to_missing_codes)"
   ]
  },
  {
   "cell_type": "code",
   "execution_count": 104,
   "metadata": {},
   "outputs": [],
   "source": [
    "features_customers, customers_many_missing  = clean_data(customers)"
   ]
  },
  {
   "cell_type": "code",
   "execution_count": 105,
   "metadata": {},
   "outputs": [
    {
     "name": "stdout",
     "output_type": "stream",
     "text": [
      "(141725, 195)\n",
      "(49927, 79)\n"
     ]
    }
   ],
   "source": [
    "print(features_customers.shape)\n",
    "print(customers_many_missing.shape)"
   ]
  },
  {
   "cell_type": "code",
   "execution_count": 106,
   "metadata": {},
   "outputs": [
    {
     "name": "stdout",
     "output_type": "stream",
     "text": [
      "Index(['GEBAEUDETYP_5.0'], dtype='object')\n"
     ]
    }
   ],
   "source": [
    "print(azdias.columns.difference(features_customers.columns))"
   ]
  },
  {
   "cell_type": "code",
   "execution_count": 107,
   "metadata": {},
   "outputs": [
    {
     "data": {
      "text/html": [
       "<div>\n",
       "<style scoped>\n",
       "    .dataframe tbody tr th:only-of-type {\n",
       "        vertical-align: middle;\n",
       "    }\n",
       "\n",
       "    .dataframe tbody tr th {\n",
       "        vertical-align: top;\n",
       "    }\n",
       "\n",
       "    .dataframe thead th {\n",
       "        text-align: right;\n",
       "    }\n",
       "</style>\n",
       "<table border=\"1\" class=\"dataframe\">\n",
       "  <thead>\n",
       "    <tr style=\"text-align: right;\">\n",
       "      <th></th>\n",
       "      <th>AGER_TYP</th>\n",
       "      <th>ALTERSKATEGORIE_GROB</th>\n",
       "      <th>ANREDE_KZ</th>\n",
       "      <th>CJT_GESAMTTYP</th>\n",
       "      <th>FINANZ_MINIMALIST</th>\n",
       "      <th>FINANZ_SPARER</th>\n",
       "      <th>FINANZ_VORSORGER</th>\n",
       "      <th>FINANZ_ANLEGER</th>\n",
       "      <th>FINANZ_UNAUFFAELLIGER</th>\n",
       "      <th>FINANZ_HAUSBAUER</th>\n",
       "      <th>...</th>\n",
       "      <th>PLZ8_ANTG1</th>\n",
       "      <th>PLZ8_ANTG2</th>\n",
       "      <th>PLZ8_ANTG3</th>\n",
       "      <th>PLZ8_ANTG4</th>\n",
       "      <th>PLZ8_BAUMAX</th>\n",
       "      <th>PLZ8_HHZ</th>\n",
       "      <th>PLZ8_GBZ</th>\n",
       "      <th>ARBEIT</th>\n",
       "      <th>ORTSGR_KLS9</th>\n",
       "      <th>RELAT_AB</th>\n",
       "    </tr>\n",
       "  </thead>\n",
       "  <tbody>\n",
       "    <tr>\n",
       "      <td>191647</td>\n",
       "      <td>1.0</td>\n",
       "      <td>3.0</td>\n",
       "      <td>1</td>\n",
       "      <td>4.0</td>\n",
       "      <td>5</td>\n",
       "      <td>1</td>\n",
       "      <td>5</td>\n",
       "      <td>1</td>\n",
       "      <td>1</td>\n",
       "      <td>2</td>\n",
       "      <td>...</td>\n",
       "      <td>2.0</td>\n",
       "      <td>4.0</td>\n",
       "      <td>2.0</td>\n",
       "      <td>1.0</td>\n",
       "      <td>2.0</td>\n",
       "      <td>5.0</td>\n",
       "      <td>4.0</td>\n",
       "      <td>3.0</td>\n",
       "      <td>8.0</td>\n",
       "      <td>5.0</td>\n",
       "    </tr>\n",
       "    <tr>\n",
       "      <td>191648</td>\n",
       "      <td>NaN</td>\n",
       "      <td>4.0</td>\n",
       "      <td>2</td>\n",
       "      <td>2.0</td>\n",
       "      <td>5</td>\n",
       "      <td>1</td>\n",
       "      <td>5</td>\n",
       "      <td>2</td>\n",
       "      <td>2</td>\n",
       "      <td>3</td>\n",
       "      <td>...</td>\n",
       "      <td>NaN</td>\n",
       "      <td>NaN</td>\n",
       "      <td>NaN</td>\n",
       "      <td>NaN</td>\n",
       "      <td>NaN</td>\n",
       "      <td>NaN</td>\n",
       "      <td>NaN</td>\n",
       "      <td>1.0</td>\n",
       "      <td>4.0</td>\n",
       "      <td>1.0</td>\n",
       "    </tr>\n",
       "    <tr>\n",
       "      <td>191649</td>\n",
       "      <td>2.0</td>\n",
       "      <td>4.0</td>\n",
       "      <td>1</td>\n",
       "      <td>2.0</td>\n",
       "      <td>5</td>\n",
       "      <td>1</td>\n",
       "      <td>5</td>\n",
       "      <td>1</td>\n",
       "      <td>1</td>\n",
       "      <td>2</td>\n",
       "      <td>...</td>\n",
       "      <td>3.0</td>\n",
       "      <td>2.0</td>\n",
       "      <td>2.0</td>\n",
       "      <td>1.0</td>\n",
       "      <td>1.0</td>\n",
       "      <td>5.0</td>\n",
       "      <td>5.0</td>\n",
       "      <td>3.0</td>\n",
       "      <td>7.0</td>\n",
       "      <td>5.0</td>\n",
       "    </tr>\n",
       "    <tr>\n",
       "      <td>191650</td>\n",
       "      <td>3.0</td>\n",
       "      <td>3.0</td>\n",
       "      <td>2</td>\n",
       "      <td>4.0</td>\n",
       "      <td>2</td>\n",
       "      <td>1</td>\n",
       "      <td>5</td>\n",
       "      <td>1</td>\n",
       "      <td>2</td>\n",
       "      <td>5</td>\n",
       "      <td>...</td>\n",
       "      <td>3.0</td>\n",
       "      <td>2.0</td>\n",
       "      <td>1.0</td>\n",
       "      <td>1.0</td>\n",
       "      <td>1.0</td>\n",
       "      <td>2.0</td>\n",
       "      <td>3.0</td>\n",
       "      <td>3.0</td>\n",
       "      <td>4.0</td>\n",
       "      <td>4.0</td>\n",
       "    </tr>\n",
       "    <tr>\n",
       "      <td>191651</td>\n",
       "      <td>3.0</td>\n",
       "      <td>2.0</td>\n",
       "      <td>1</td>\n",
       "      <td>2.0</td>\n",
       "      <td>5</td>\n",
       "      <td>1</td>\n",
       "      <td>5</td>\n",
       "      <td>1</td>\n",
       "      <td>1</td>\n",
       "      <td>2</td>\n",
       "      <td>...</td>\n",
       "      <td>3.0</td>\n",
       "      <td>2.0</td>\n",
       "      <td>0.0</td>\n",
       "      <td>0.0</td>\n",
       "      <td>1.0</td>\n",
       "      <td>4.0</td>\n",
       "      <td>5.0</td>\n",
       "      <td>1.0</td>\n",
       "      <td>3.0</td>\n",
       "      <td>1.0</td>\n",
       "    </tr>\n",
       "  </tbody>\n",
       "</table>\n",
       "<p>5 rows × 85 columns</p>\n",
       "</div>"
      ],
      "text/plain": [
       "        AGER_TYP  ALTERSKATEGORIE_GROB  ANREDE_KZ  CJT_GESAMTTYP  \\\n",
       "191647       1.0                   3.0          1            4.0   \n",
       "191648       NaN                   4.0          2            2.0   \n",
       "191649       2.0                   4.0          1            2.0   \n",
       "191650       3.0                   3.0          2            4.0   \n",
       "191651       3.0                   2.0          1            2.0   \n",
       "\n",
       "        FINANZ_MINIMALIST  FINANZ_SPARER  FINANZ_VORSORGER  FINANZ_ANLEGER  \\\n",
       "191647                  5              1                 5               1   \n",
       "191648                  5              1                 5               2   \n",
       "191649                  5              1                 5               1   \n",
       "191650                  2              1                 5               1   \n",
       "191651                  5              1                 5               1   \n",
       "\n",
       "        FINANZ_UNAUFFAELLIGER  FINANZ_HAUSBAUER  ...  PLZ8_ANTG1  PLZ8_ANTG2  \\\n",
       "191647                      1                 2  ...         2.0         4.0   \n",
       "191648                      2                 3  ...         NaN         NaN   \n",
       "191649                      1                 2  ...         3.0         2.0   \n",
       "191650                      2                 5  ...         3.0         2.0   \n",
       "191651                      1                 2  ...         3.0         2.0   \n",
       "\n",
       "        PLZ8_ANTG3  PLZ8_ANTG4  PLZ8_BAUMAX  PLZ8_HHZ  PLZ8_GBZ  ARBEIT  \\\n",
       "191647         2.0         1.0          2.0       5.0       4.0     3.0   \n",
       "191648         NaN         NaN          NaN       NaN       NaN     1.0   \n",
       "191649         2.0         1.0          1.0       5.0       5.0     3.0   \n",
       "191650         1.0         1.0          1.0       2.0       3.0     3.0   \n",
       "191651         0.0         0.0          1.0       4.0       5.0     1.0   \n",
       "\n",
       "        ORTSGR_KLS9  RELAT_AB  \n",
       "191647          8.0       5.0  \n",
       "191648          4.0       1.0  \n",
       "191649          7.0       5.0  \n",
       "191650          4.0       4.0  \n",
       "191651          3.0       1.0  \n",
       "\n",
       "[5 rows x 85 columns]"
      ]
     },
     "execution_count": 107,
     "metadata": {},
     "output_type": "execute_result"
    }
   ],
   "source": [
    "customers.tail()"
   ]
  },
  {
   "cell_type": "code",
   "execution_count": 108,
   "metadata": {},
   "outputs": [],
   "source": [
    "customers_extended = customers.copy()\n",
    "customers_extended = pd.concat([customers_extended, customers_extended.iloc[-1:]], ignore_index=True)"
   ]
  },
  {
   "cell_type": "code",
   "execution_count": 109,
   "metadata": {},
   "outputs": [
    {
     "name": "stdout",
     "output_type": "stream",
     "text": [
      "191653\n"
     ]
    },
    {
     "data": {
      "text/html": [
       "<div>\n",
       "<style scoped>\n",
       "    .dataframe tbody tr th:only-of-type {\n",
       "        vertical-align: middle;\n",
       "    }\n",
       "\n",
       "    .dataframe tbody tr th {\n",
       "        vertical-align: top;\n",
       "    }\n",
       "\n",
       "    .dataframe thead th {\n",
       "        text-align: right;\n",
       "    }\n",
       "</style>\n",
       "<table border=\"1\" class=\"dataframe\">\n",
       "  <thead>\n",
       "    <tr style=\"text-align: right;\">\n",
       "      <th></th>\n",
       "      <th>AGER_TYP</th>\n",
       "      <th>ALTERSKATEGORIE_GROB</th>\n",
       "      <th>ANREDE_KZ</th>\n",
       "      <th>CJT_GESAMTTYP</th>\n",
       "      <th>FINANZ_MINIMALIST</th>\n",
       "      <th>FINANZ_SPARER</th>\n",
       "      <th>FINANZ_VORSORGER</th>\n",
       "      <th>FINANZ_ANLEGER</th>\n",
       "      <th>FINANZ_UNAUFFAELLIGER</th>\n",
       "      <th>FINANZ_HAUSBAUER</th>\n",
       "      <th>...</th>\n",
       "      <th>PLZ8_ANTG1</th>\n",
       "      <th>PLZ8_ANTG2</th>\n",
       "      <th>PLZ8_ANTG3</th>\n",
       "      <th>PLZ8_ANTG4</th>\n",
       "      <th>PLZ8_BAUMAX</th>\n",
       "      <th>PLZ8_HHZ</th>\n",
       "      <th>PLZ8_GBZ</th>\n",
       "      <th>ARBEIT</th>\n",
       "      <th>ORTSGR_KLS9</th>\n",
       "      <th>RELAT_AB</th>\n",
       "    </tr>\n",
       "  </thead>\n",
       "  <tbody>\n",
       "    <tr>\n",
       "      <td>191650</td>\n",
       "      <td>3.0</td>\n",
       "      <td>3.0</td>\n",
       "      <td>2</td>\n",
       "      <td>4.0</td>\n",
       "      <td>2</td>\n",
       "      <td>1</td>\n",
       "      <td>5</td>\n",
       "      <td>1</td>\n",
       "      <td>2</td>\n",
       "      <td>5</td>\n",
       "      <td>...</td>\n",
       "      <td>3.0</td>\n",
       "      <td>2.0</td>\n",
       "      <td>1.0</td>\n",
       "      <td>1.0</td>\n",
       "      <td>1.0</td>\n",
       "      <td>2.0</td>\n",
       "      <td>3.0</td>\n",
       "      <td>3.0</td>\n",
       "      <td>4.0</td>\n",
       "      <td>4.0</td>\n",
       "    </tr>\n",
       "    <tr>\n",
       "      <td>191651</td>\n",
       "      <td>3.0</td>\n",
       "      <td>2.0</td>\n",
       "      <td>1</td>\n",
       "      <td>2.0</td>\n",
       "      <td>5</td>\n",
       "      <td>1</td>\n",
       "      <td>5</td>\n",
       "      <td>1</td>\n",
       "      <td>1</td>\n",
       "      <td>2</td>\n",
       "      <td>...</td>\n",
       "      <td>3.0</td>\n",
       "      <td>2.0</td>\n",
       "      <td>0.0</td>\n",
       "      <td>0.0</td>\n",
       "      <td>1.0</td>\n",
       "      <td>4.0</td>\n",
       "      <td>5.0</td>\n",
       "      <td>1.0</td>\n",
       "      <td>3.0</td>\n",
       "      <td>1.0</td>\n",
       "    </tr>\n",
       "    <tr>\n",
       "      <td>191652</td>\n",
       "      <td>3.0</td>\n",
       "      <td>2.0</td>\n",
       "      <td>1</td>\n",
       "      <td>2.0</td>\n",
       "      <td>5</td>\n",
       "      <td>1</td>\n",
       "      <td>5</td>\n",
       "      <td>1</td>\n",
       "      <td>1</td>\n",
       "      <td>2</td>\n",
       "      <td>...</td>\n",
       "      <td>3.0</td>\n",
       "      <td>2.0</td>\n",
       "      <td>0.0</td>\n",
       "      <td>0.0</td>\n",
       "      <td>1.0</td>\n",
       "      <td>4.0</td>\n",
       "      <td>5.0</td>\n",
       "      <td>1.0</td>\n",
       "      <td>3.0</td>\n",
       "      <td>1.0</td>\n",
       "    </tr>\n",
       "  </tbody>\n",
       "</table>\n",
       "<p>3 rows × 85 columns</p>\n",
       "</div>"
      ],
      "text/plain": [
       "        AGER_TYP  ALTERSKATEGORIE_GROB  ANREDE_KZ  CJT_GESAMTTYP  \\\n",
       "191650       3.0                   3.0          2            4.0   \n",
       "191651       3.0                   2.0          1            2.0   \n",
       "191652       3.0                   2.0          1            2.0   \n",
       "\n",
       "        FINANZ_MINIMALIST  FINANZ_SPARER  FINANZ_VORSORGER  FINANZ_ANLEGER  \\\n",
       "191650                  2              1                 5               1   \n",
       "191651                  5              1                 5               1   \n",
       "191652                  5              1                 5               1   \n",
       "\n",
       "        FINANZ_UNAUFFAELLIGER  FINANZ_HAUSBAUER  ...  PLZ8_ANTG1  PLZ8_ANTG2  \\\n",
       "191650                      2                 5  ...         3.0         2.0   \n",
       "191651                      1                 2  ...         3.0         2.0   \n",
       "191652                      1                 2  ...         3.0         2.0   \n",
       "\n",
       "        PLZ8_ANTG3  PLZ8_ANTG4  PLZ8_BAUMAX  PLZ8_HHZ  PLZ8_GBZ  ARBEIT  \\\n",
       "191650         1.0         1.0          1.0       2.0       3.0     3.0   \n",
       "191651         0.0         0.0          1.0       4.0       5.0     1.0   \n",
       "191652         0.0         0.0          1.0       4.0       5.0     1.0   \n",
       "\n",
       "        ORTSGR_KLS9  RELAT_AB  \n",
       "191650          4.0       4.0  \n",
       "191651          3.0       1.0  \n",
       "191652          3.0       1.0  \n",
       "\n",
       "[3 rows x 85 columns]"
      ]
     },
     "execution_count": 109,
     "metadata": {},
     "output_type": "execute_result"
    }
   ],
   "source": [
    "print(customers_extended.shape[0]) # sanity check\n",
    "customers_extended.tail(3)"
   ]
  },
  {
   "cell_type": "code",
   "execution_count": 110,
   "metadata": {},
   "outputs": [],
   "source": [
    "customers_extended.loc[191652,'GEBAEUDETYP'] = 5.0"
   ]
  },
  {
   "cell_type": "code",
   "execution_count": 111,
   "metadata": {},
   "outputs": [
    {
     "data": {
      "text/html": [
       "<div>\n",
       "<style scoped>\n",
       "    .dataframe tbody tr th:only-of-type {\n",
       "        vertical-align: middle;\n",
       "    }\n",
       "\n",
       "    .dataframe tbody tr th {\n",
       "        vertical-align: top;\n",
       "    }\n",
       "\n",
       "    .dataframe thead th {\n",
       "        text-align: right;\n",
       "    }\n",
       "</style>\n",
       "<table border=\"1\" class=\"dataframe\">\n",
       "  <thead>\n",
       "    <tr style=\"text-align: right;\">\n",
       "      <th></th>\n",
       "      <th>ALTERSKATEGORIE_GROB</th>\n",
       "      <th>ANREDE_KZ</th>\n",
       "      <th>FINANZ_MINIMALIST</th>\n",
       "      <th>FINANZ_SPARER</th>\n",
       "      <th>FINANZ_VORSORGER</th>\n",
       "      <th>FINANZ_ANLEGER</th>\n",
       "      <th>FINANZ_UNAUFFAELLIGER</th>\n",
       "      <th>FINANZ_HAUSBAUER</th>\n",
       "      <th>GREEN_AVANTGARDE</th>\n",
       "      <th>HEALTH_TYP</th>\n",
       "      <th>...</th>\n",
       "      <th>CAMEO_DEU_2015_8D</th>\n",
       "      <th>CAMEO_DEU_2015_9A</th>\n",
       "      <th>CAMEO_DEU_2015_9B</th>\n",
       "      <th>CAMEO_DEU_2015_9C</th>\n",
       "      <th>CAMEO_DEU_2015_9D</th>\n",
       "      <th>CAMEO_DEU_2015_9E</th>\n",
       "      <th>PRAEGENDE_JUGENDJAHRE_decade</th>\n",
       "      <th>PRAEGENDE_JUGENDJAHRE_movement</th>\n",
       "      <th>CAMEO_INTL_2015_wealth</th>\n",
       "      <th>CAMEO_INTL_2015_lifestage</th>\n",
       "    </tr>\n",
       "  </thead>\n",
       "  <tbody>\n",
       "    <tr>\n",
       "      <td>191649</td>\n",
       "      <td>4.0</td>\n",
       "      <td>0</td>\n",
       "      <td>5</td>\n",
       "      <td>1</td>\n",
       "      <td>5</td>\n",
       "      <td>1</td>\n",
       "      <td>1</td>\n",
       "      <td>2</td>\n",
       "      <td>1</td>\n",
       "      <td>2.0</td>\n",
       "      <td>...</td>\n",
       "      <td>0</td>\n",
       "      <td>0</td>\n",
       "      <td>0</td>\n",
       "      <td>0</td>\n",
       "      <td>0</td>\n",
       "      <td>0</td>\n",
       "      <td>1.0</td>\n",
       "      <td>1</td>\n",
       "      <td>2.0</td>\n",
       "      <td>4.0</td>\n",
       "    </tr>\n",
       "    <tr>\n",
       "      <td>191650</td>\n",
       "      <td>3.0</td>\n",
       "      <td>1</td>\n",
       "      <td>2</td>\n",
       "      <td>1</td>\n",
       "      <td>5</td>\n",
       "      <td>1</td>\n",
       "      <td>2</td>\n",
       "      <td>5</td>\n",
       "      <td>0</td>\n",
       "      <td>2.0</td>\n",
       "      <td>...</td>\n",
       "      <td>0</td>\n",
       "      <td>0</td>\n",
       "      <td>0</td>\n",
       "      <td>0</td>\n",
       "      <td>0</td>\n",
       "      <td>0</td>\n",
       "      <td>3.0</td>\n",
       "      <td>0</td>\n",
       "      <td>2.0</td>\n",
       "      <td>4.0</td>\n",
       "    </tr>\n",
       "    <tr>\n",
       "      <td>191651</td>\n",
       "      <td>2.0</td>\n",
       "      <td>0</td>\n",
       "      <td>5</td>\n",
       "      <td>1</td>\n",
       "      <td>5</td>\n",
       "      <td>1</td>\n",
       "      <td>1</td>\n",
       "      <td>2</td>\n",
       "      <td>0</td>\n",
       "      <td>2.0</td>\n",
       "      <td>...</td>\n",
       "      <td>0</td>\n",
       "      <td>0</td>\n",
       "      <td>0</td>\n",
       "      <td>0</td>\n",
       "      <td>0</td>\n",
       "      <td>0</td>\n",
       "      <td>1.0</td>\n",
       "      <td>0</td>\n",
       "      <td>3.0</td>\n",
       "      <td>3.0</td>\n",
       "    </tr>\n",
       "  </tbody>\n",
       "</table>\n",
       "<p>3 rows × 196 columns</p>\n",
       "</div>"
      ],
      "text/plain": [
       "        ALTERSKATEGORIE_GROB  ANREDE_KZ  FINANZ_MINIMALIST  FINANZ_SPARER  \\\n",
       "191649                   4.0          0                  5              1   \n",
       "191650                   3.0          1                  2              1   \n",
       "191651                   2.0          0                  5              1   \n",
       "\n",
       "        FINANZ_VORSORGER  FINANZ_ANLEGER  FINANZ_UNAUFFAELLIGER  \\\n",
       "191649                 5               1                      1   \n",
       "191650                 5               1                      2   \n",
       "191651                 5               1                      1   \n",
       "\n",
       "        FINANZ_HAUSBAUER  GREEN_AVANTGARDE  HEALTH_TYP  ...  \\\n",
       "191649                 2                 1         2.0  ...   \n",
       "191650                 5                 0         2.0  ...   \n",
       "191651                 2                 0         2.0  ...   \n",
       "\n",
       "        CAMEO_DEU_2015_8D  CAMEO_DEU_2015_9A  CAMEO_DEU_2015_9B  \\\n",
       "191649                  0                  0                  0   \n",
       "191650                  0                  0                  0   \n",
       "191651                  0                  0                  0   \n",
       "\n",
       "        CAMEO_DEU_2015_9C  CAMEO_DEU_2015_9D  CAMEO_DEU_2015_9E  \\\n",
       "191649                  0                  0                  0   \n",
       "191650                  0                  0                  0   \n",
       "191651                  0                  0                  0   \n",
       "\n",
       "        PRAEGENDE_JUGENDJAHRE_decade  PRAEGENDE_JUGENDJAHRE_movement  \\\n",
       "191649                           1.0                               1   \n",
       "191650                           3.0                               0   \n",
       "191651                           1.0                               0   \n",
       "\n",
       "        CAMEO_INTL_2015_wealth  CAMEO_INTL_2015_lifestage  \n",
       "191649                     2.0                        4.0  \n",
       "191650                     2.0                        4.0  \n",
       "191651                     3.0                        3.0  \n",
       "\n",
       "[3 rows x 196 columns]"
      ]
     },
     "execution_count": 111,
     "metadata": {},
     "output_type": "execute_result"
    }
   ],
   "source": [
    "# Apply preprocessing, feature transformation, and clustering from the general\n",
    "# demographics onto the customer data, obtaining cluster predictions for the\n",
    "# customer demographics data.\n",
    "\n",
    "features_customers, customers_many_missing  = clean_data(customers_extended)\n",
    "\n",
    "features_customers.drop([191652], inplace=True)\n",
    "\n",
    "features_customers.tail(3)"
   ]
  },
  {
   "cell_type": "code",
   "execution_count": 112,
   "metadata": {},
   "outputs": [],
   "source": [
    "imputed_customers = imputer.transform(features_customers)\n",
    "standardized_customers = scaler.transform(imputed_customers)\n",
    "pca_customers = pca.transform(standardized_customers)\n",
    "kmeans_customers = kmeans.predict(pca_customers)"
   ]
  },
  {
   "cell_type": "code",
   "execution_count": 113,
   "metadata": {},
   "outputs": [
    {
     "name": "stdout",
     "output_type": "stream",
     "text": [
      "(141725, 50)\n",
      "(797961, 50)\n"
     ]
    }
   ],
   "source": [
    "print(pca_customers.shape)\n",
    "print(pca_features.shape)"
   ]
  },
  {
   "cell_type": "markdown",
   "metadata": {},
   "source": [
    "### Step 3.3: Compare Customer Data to Demographics Data\n",
    "\n",
    "At this point, you have clustered data based on demographics of the general population of Germany, and seen how the customer data for a mail-order sales company maps onto those demographic clusters. In this final substep, you will compare the two cluster distributions to see where the strongest customer base for the company is.\n",
    "\n",
    "Consider the proportion of persons in each cluster for the general population, and the proportions for the customers. If we think the company's customer base to be universal, then the cluster assignment proportions should be fairly similar between the two. If there are only particular segments of the population that are interested in the company's products, then we should see a mismatch from one to the other. If there is a higher proportion of persons in a cluster for the customer data compared to the general population (e.g. 5% of persons are assigned to a cluster for the general population, but 15% of the customer data is closest to that cluster's centroid) then that suggests the people in that cluster to be a target audience for the company. On the other hand, the proportion of the data in a cluster being larger in the general population than the customer data (e.g. only 2% of customers closest to a population centroid that captures 6% of the data) suggests that group of persons to be outside of the target demographics.\n",
    "\n",
    "Take a look at the following points in this step:\n",
    "\n",
    "- Compute the proportion of data points in each cluster for the general population and the customer data. Visualizations will be useful here: both for the individual dataset proportions, but also to visualize the ratios in cluster representation between groups. Seaborn's [`countplot()`](https://seaborn.pydata.org/generated/seaborn.countplot.html) or [`barplot()`](https://seaborn.pydata.org/generated/seaborn.barplot.html) function could be handy.\n",
    "  - Recall the analysis you performed in step 1.1.3 of the project, where you separated out certain data points from the dataset if they had more than a specified threshold of missing values. If you found that this group was qualitatively different from the main bulk of the data, you should treat this as an additional data cluster in this analysis. Make sure that you account for the number of data points in this subset, for both the general population and customer datasets, when making your computations!\n",
    "- Which cluster or clusters are overrepresented in the customer dataset compared to the general population? Select at least one such cluster and infer what kind of people might be represented by that cluster. Use the principal component interpretations from step 2.3 or look at additional components to help you make this inference. Alternatively, you can use the `.inverse_transform()` method of the PCA and StandardScaler objects to transform centroids back to the original data space and interpret the retrieved values directly.\n",
    "- Perform a similar investigation for the underrepresented clusters. Which cluster or clusters are underrepresented in the customer dataset compared to the general population, and what kinds of people are typified by these clusters?"
   ]
  },
  {
   "cell_type": "code",
   "execution_count": 114,
   "metadata": {},
   "outputs": [],
   "source": [
    "# Account for rows with many missing values\n",
    "\n",
    "azdias_many_missing_array = np.full((azdias_many_missing.shape[0],), -1)\n",
    "kmeans_all_labels = np.concatenate([kmeans_labels, azdias_many_missing_array])\n",
    "customers_many_missing_array = np.full((customers_many_missing.shape[0],), -1)\n",
    "kmeans_all_customers = np.concatenate([kmeans_customers, customers_many_missing_array])"
   ]
  },
  {
   "cell_type": "code",
   "execution_count": 115,
   "metadata": {},
   "outputs": [
    {
     "data": {
      "text/plain": [
       "(93260,)"
      ]
     },
     "execution_count": 115,
     "metadata": {},
     "output_type": "execute_result"
    }
   ],
   "source": [
    "azdias_many_missing_array.shape"
   ]
  },
  {
   "cell_type": "code",
   "execution_count": 116,
   "metadata": {},
   "outputs": [
    {
     "data": {
      "text/plain": [
       "array([10,  1, 19, ..., -1, -1, -1])"
      ]
     },
     "execution_count": 116,
     "metadata": {},
     "output_type": "execute_result"
    }
   ],
   "source": [
    "kmeans_all_labels"
   ]
  },
  {
   "cell_type": "code",
   "execution_count": 117,
   "metadata": {},
   "outputs": [
    {
     "data": {
      "text/plain": [
       "0         10\n",
       "1          1\n",
       "2         19\n",
       "3          7\n",
       "4          5\n",
       "          ..\n",
       "891216    -1\n",
       "891217    -1\n",
       "891218    -1\n",
       "891219    -1\n",
       "891220    -1\n",
       "Length: 891221, dtype: int32"
      ]
     },
     "execution_count": 117,
     "metadata": {},
     "output_type": "execute_result"
    }
   ],
   "source": [
    "pd.Series(kmeans_all_labels)"
   ]
  },
  {
   "cell_type": "code",
   "execution_count": 118,
   "metadata": {},
   "outputs": [
    {
     "data": {
      "text/plain": [
       " 0     0.032783\n",
       " 1     0.054458\n",
       " 2     0.048653\n",
       " 3     0.028050\n",
       " 4     0.051628\n",
       " 5     0.043852\n",
       " 6     0.028029\n",
       " 7     0.033812\n",
       " 8     0.019778\n",
       " 9     0.007098\n",
       " 10    0.028903\n",
       " 11    0.034049\n",
       " 12    0.039363\n",
       " 13    0.036058\n",
       " 14    0.070629\n",
       " 15    0.048582\n",
       " 16    0.034822\n",
       " 17    0.047547\n",
       " 18    0.027512\n",
       " 19    0.051017\n",
       " 20    0.036103\n",
       " 21    0.029775\n",
       " 22    0.009930\n",
       " 23    0.028252\n",
       " 24    0.024673\n",
       "-1     0.104643\n",
       "dtype: float64"
      ]
     },
     "execution_count": 118,
     "metadata": {},
     "output_type": "execute_result"
    }
   ],
   "source": [
    "pd.Series(kmeans_all_labels).value_counts(normalize=True, sort=False)"
   ]
  },
  {
   "cell_type": "code",
   "execution_count": 119,
   "metadata": {},
   "outputs": [
    {
     "data": {
      "text/plain": [
       " 0     0.025155\n",
       " 1     0.003230\n",
       " 2     0.014140\n",
       " 3     0.074620\n",
       " 4     0.003371\n",
       " 5     0.021142\n",
       " 6     0.029204\n",
       " 7     0.041716\n",
       " 8     0.004070\n",
       " 9     0.007618\n",
       " 10    0.006079\n",
       " 11    0.022948\n",
       " 12    0.003068\n",
       " 13    0.095105\n",
       " 14    0.004310\n",
       " 15    0.028160\n",
       " 16    0.018596\n",
       " 17    0.069689\n",
       " 18    0.003997\n",
       " 19    0.044534\n",
       " 20    0.028108\n",
       " 21    0.042509\n",
       " 22    0.049960\n",
       " 23    0.065389\n",
       " 24    0.032773\n",
       "-1     0.260509\n",
       "dtype: float64"
      ]
     },
     "execution_count": 119,
     "metadata": {},
     "output_type": "execute_result"
    }
   ],
   "source": [
    "pd.Series(kmeans_all_customers).value_counts(normalize=True, sort=False)"
   ]
  },
  {
   "cell_type": "code",
   "execution_count": 120,
   "metadata": {},
   "outputs": [],
   "source": [
    "# Compare the proportion of data in each cluster for the customer data to the\n",
    "# proportion of data in each cluster for the general population.\n",
    "\n",
    "# Proportions for general data\n",
    "dict_data = {'proportion': pd.Series(kmeans_all_labels).value_counts(normalize=True, sort=False), \n",
    "          'source': 'general'}\n",
    "\n",
    "general_proportions = pd.DataFrame(dict_data)\n",
    "\n",
    "# Proportions for customer data\n",
    "dict_data = {'proportion': pd.Series(kmeans_all_customers).value_counts(normalize=True, sort=False), \n",
    "          'source': 'customer'}\n",
    "\n",
    "customer_proportions = pd.DataFrame(dict_data)\n",
    "\n",
    "# Concatenate proportions\n",
    "total_proportions = pd.concat([general_proportions, customer_proportions])"
   ]
  },
  {
   "cell_type": "code",
   "execution_count": 121,
   "metadata": {},
   "outputs": [
    {
     "data": {
      "image/png": "[encoded data removed]",
      "text/plain": [
       "<Figure size 720x288 with 1 Axes>"
      ]
     },
     "metadata": {
      "needs_background": "light"
     },
     "output_type": "display_data"
    }
   ],
   "source": [
    "fig, ax = plt.subplots(figsize=(10,4))\n",
    "sns.barplot(ax=ax, x=total_proportions.index, y = total_proportions.proportion, hue=total_proportions.source)\n",
    "ax.set_xlabel('cluster')\n",
    "ax.set_title('Proportions per cluster for general vs customer populations');"
   ]
  },
  {
   "cell_type": "code",
   "execution_count": 122,
   "metadata": {},
   "outputs": [
    {
     "name": "stdout",
     "output_type": "stream",
     "text": [
      "over-represented\n",
      "-1     0.155866\n",
      " 13    0.059046\n",
      " 3     0.046569\n",
      "Name: proportion, dtype: float64\n",
      "\n",
      "under-represented\n",
      "4    -0.048257\n",
      "1    -0.051228\n",
      "14   -0.066319\n",
      "Name: proportion, dtype: float64\n"
     ]
    }
   ],
   "source": [
    "# Check difference in cluster proportion for general vs customer populations\n",
    "diff_customer_proportions = customer_proportions['proportion'] - general_proportions['proportion']\n",
    "diff_customer_proportions.sort_values(ascending=False, inplace=True)\n",
    "print('over-represented')\n",
    "print(diff_customer_proportions[:3])\n",
    "print('\\nunder-represented')\n",
    "print(diff_customer_proportions[-3:])"
   ]
  },
  {
   "cell_type": "raw",
   "metadata": {},
   "source": [
    "Most significant featues for the first 3 principal components:\n",
    "\n",
    "LP_STATUS_GROB_1.0\n",
    "MOBI_REGIO\n",
    "ALTERSKATEGORIE_GROB\n",
    "PRAEGENDE_JUGENDJAHRE_decade\n",
    "SEMIO_VERT\n",
    "ANREDE_KZ"
   ]
  },
  {
   "cell_type": "code",
   "execution_count": 123,
   "metadata": {},
   "outputs": [],
   "source": [
    "def plot_cluster_top_features(cluster_num, pca_features, kmeans_labels):\n",
    "    pca_cluster = pca_features[kmeans_labels == cluster_num]\n",
    "\n",
    "    print('cluster', cluster_num, 'accounts for', np.round(pca_cluster.shape[0]*100/features.shape[0],3), '% of population')\n",
    "\n",
    "    standardized_features = pca.inverse_transform(pca_cluster)\n",
    "\n",
    "    features_cluster = scaler.inverse_transform(standardized_features)\n",
    "\n",
    "    features_cluster = pd.DataFrame(np.round(features_cluster), columns = azdias.columns)\n",
    "    features_cluster.head()\n",
    "\n",
    "    fig, axs = plt.subplots(2,3, figsize=(18,8))\n",
    "    sns.countplot(features_cluster['LP_STATUS_GROB_1.0'], ax = axs[0,0], color='#33A1C9')\n",
    "    sns.countplot(features_cluster['MOBI_REGIO'], ax = axs[0,1], color='#33A1C9')\n",
    "    sns.countplot(features_cluster['ALTERSKATEGORIE_GROB'], ax = axs[0,2], color='#33A1C9')\n",
    "    sns.countplot(features_cluster['PRAEGENDE_JUGENDJAHRE_decade'], ax = axs[1,0], color='#33A1C9')\n",
    "    sns.countplot(features_cluster['SEMIO_VERT'], ax = axs[1,1], color='#33A1C9')\n",
    "    sns.countplot(features_cluster['ANREDE_KZ'], ax = axs[1,2], color='#33A1C9')\n",
    "    plt.show();"
   ]
  },
  {
   "cell_type": "code",
   "execution_count": 126,
   "metadata": {},
   "outputs": [
    {
     "name": "stdout",
     "output_type": "stream",
     "text": [
      "cluster 13 accounts for 4.027 % of population\n"
     ]
    },
    {
     "data": {
      "image/png": "[encoded data removed]",
      "text/plain": [
       "<Figure size 1296x576 with 6 Axes>"
      ]
     },
     "metadata": {
      "needs_background": "light"
     },
     "output_type": "display_data"
    }
   ],
   "source": [
    "# What kinds of people are part of a cluster that is overrepresented in the\n",
    "# customer data compared to the general population?\n",
    "\n",
    "plot_cluster_top_features(cluster_num=13, pca_features=pca_features, kmeans_labels=kmeans_labels)"
   ]
  },
  {
   "cell_type": "code",
   "execution_count": 127,
   "metadata": {},
   "outputs": [
    {
     "name": "stdout",
     "output_type": "stream",
     "text": [
      "cluster 14 accounts for 7.888 % of population\n"
     ]
    },
    {
     "data": {
      "image/png": "[encoded data removed]",
      "text/plain": [
       "<Figure size 1296x576 with 6 Axes>"
      ]
     },
     "metadata": {
      "needs_background": "light"
     },
     "output_type": "display_data"
    }
   ],
   "source": [
    "# What kinds of people are part of a cluster that is underrepresented in the\n",
    "# customer data compared to the general population?\n",
    "\n",
    "plot_cluster_top_features(cluster_num=14, pca_features=pca_features, kmeans_labels=kmeans_labels)"
   ]
  },
  {
   "cell_type": "markdown",
   "metadata": {},
   "source": [
    "### Discussion 3.3: Compare Customer Data to Demographics Data\n",
    "\n",
    "Cluster 13 is very popular(overrepresented) with the mail-order company. It's demographic characteristics are:  \n",
    "- high-income earners  \n",
    "- low movement patterns  \n",
    "- Aged 46-60  \n",
    "- Dreamful - low affinity  \n",
    "- Mostly male  \n",
    "  \n",
    "Cluster 14 is very unpopular(underrepresented) with the mail-order company. It's demographic characteristics are:  \n",
    "- Underrepresented  \n",
    "- low-income earners  \n",
    "- high movement patterns  \n",
    "- Aged 46-60  \n",
    "- Dreamful - high affinity  \n",
    "- Mostly male  "
   ]
  },
  {
   "cell_type": "markdown",
   "metadata": {},
   "source": [
    "> Congratulations on making it this far in the project! Before you finish, make sure to check through the entire notebook from top to bottom to make sure that your analysis follows a logical flow and all of your findings are documented in **Discussion** cells. Once you've checked over all of your work, you should export the notebook as an HTML document to submit for evaluation. You can do this from the menu, navigating to **File -> Download as -> HTML (.html)**. You will submit both that document and this notebook for your project submission."
   ]
  },
  {
   "cell_type": "code",
   "execution_count": null,
   "metadata": {},
   "outputs": [],
   "source": []
  }
 ],
 "metadata": {
  "kernelspec": {
   "display_name": "Python 3",
   "language": "python",
   "name": "python3"
  },
  "language_info": {
   "codemirror_mode": {
    "name": "ipython",
    "version": 3
   },
   "file_extension": ".py",
   "mimetype": "text/x-python",
   "name": "python",
   "nbconvert_exporter": "python",
   "pygments_lexer": "ipython3",
   "version": "3.7.4"
  }
 },
 "nbformat": 4,
 "nbformat_minor": 2
}
